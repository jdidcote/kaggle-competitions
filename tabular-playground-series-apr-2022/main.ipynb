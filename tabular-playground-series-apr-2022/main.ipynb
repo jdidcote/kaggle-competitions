{
 "cells": [
  {
   "cell_type": "markdown",
   "source": [
    "# Tabular Playground Series - Apr 2022\n",
    "\n",
    "In this competition, you'll classify 60-second sequences of sensor data, indicating whether a subject was in either of two activity states for the duration of the sequence."
   ],
   "metadata": {
    "collapsed": false,
    "pycharm": {
     "name": "#%% md\n"
    }
   }
  },
  {
   "cell_type": "markdown",
   "source": [
    "### Setup"
   ],
   "metadata": {
    "collapsed": false,
    "pycharm": {
     "name": "#%% md\n"
    }
   }
  },
  {
   "cell_type": "code",
   "execution_count": null,
   "outputs": [],
   "source": [
    "%%capture\n",
    "\n",
    "from typing import Tuple\n",
    "\n",
    "from lightgbm import LGBMClassifier\n",
    "import numpy as np\n",
    "import pandas as pd\n",
    "from scipy.stats import kurtosis\n",
    "import seaborn as sns\n",
    "from sklearn.metrics import roc_auc_score\n",
    "from sklearn.model_selection import KFold\n",
    "sns.set(rc = {'figure.figsize':(10, 6)})\n",
    "\n",
    "from ml_utils.preprocess.pipeline import preprocessing_pipeline"
   ],
   "metadata": {
    "collapsed": false,
    "pycharm": {
     "name": "#%%\n"
    }
   }
  },
  {
   "cell_type": "markdown",
   "source": [
    "### Load data"
   ],
   "metadata": {
    "collapsed": false,
    "pycharm": {
     "name": "#%% md\n"
    }
   }
  },
  {
   "cell_type": "code",
   "execution_count": null,
   "outputs": [],
   "source": [
    "pipeline = {}\n",
    "\n",
    "train = pd.read_csv(\"Data/train.csv\")\n",
    "train_labels = pd.read_csv(\"Data/train_labels.csv\")\n",
    "train = pd.merge(train, train_labels, on=\"sequence\")\n",
    "\n",
    "test = pd.read_csv(\"Data/test.csv\")\n",
    "\n",
    "print(f\"Train shape {train.shape}\")\n",
    "print(f\"Test shape {test.shape}\")"
   ],
   "metadata": {
    "collapsed": false,
    "pycharm": {
     "name": "#%%\n"
    }
   }
  },
  {
   "cell_type": "code",
   "execution_count": null,
   "outputs": [],
   "source": [
    "train.head()"
   ],
   "metadata": {
    "collapsed": false,
    "pycharm": {
     "name": "#%%\n"
    }
   }
  },
  {
   "cell_type": "markdown",
   "source": [
    "There is no missing data"
   ],
   "metadata": {
    "collapsed": false,
    "pycharm": {
     "name": "#%% md\n"
    }
   }
  },
  {
   "cell_type": "markdown",
   "source": [
    "### Feature distributions"
   ],
   "metadata": {
    "collapsed": false,
    "pycharm": {
     "name": "#%% md\n"
    }
   }
  },
  {
   "cell_type": "code",
   "execution_count": null,
   "outputs": [],
   "source": [
    "sensor_cols = [x for x in train.columns if 'sensor' in x]\n",
    "\n",
    "sns.displot(\n",
    "    data=pd.melt(train[sensor_cols]),\n",
    "    x=\"value\",\n",
    "    col=\"variable\",\n",
    "    bins=100,\n",
    "    col_wrap=5,\n",
    "    common_bins=False,\n",
    "    facet_kws=dict(\n",
    "        sharex=False,\n",
    "        sharey=False,\n",
    "    )\n",
    ")"
   ],
   "metadata": {
    "collapsed": false,
    "pycharm": {
     "name": "#%%\n"
    }
   }
  },
  {
   "cell_type": "markdown",
   "source": [
    "### Feature engineering\n",
    "\n",
    "Add columns for summary statistics grouped by each subject and sequence (which maps to activity)"
   ],
   "metadata": {
    "collapsed": false,
    "pycharm": {
     "name": "#%% md\n"
    }
   }
  },
  {
   "cell_type": "code",
   "execution_count": null,
   "outputs": [],
   "source": [
    "def get_aggregate_features(df):\n",
    "    \"\"\"\n",
    "    Add some summary statistic features grouped by sequencea\n",
    "    \"\"\"\n",
    "\n",
    "    summary_statistics = {\n",
    "        \"sum\": sum,\n",
    "        \"mean\": np.mean,\n",
    "        \"std\": np.std,\n",
    "        \"kurtosis\": kurtosis,\n",
    "        'median': np.median,\n",
    "        'min': np.min,\n",
    "        'max': np.max\n",
    "    }\n",
    "\n",
    "    aggregated_dfs = []\n",
    "\n",
    "    for agg_name, agg_func in summary_statistics.items():\n",
    "        print(f\"Aggregating {agg_name}...\")\n",
    "        _ = df.groupby(['sequence'])[sensor_cols].transform(kurtosis, axis=0)\n",
    "        _.columns = [f\"{agg_name}_{x}\" for x in _.columns]\n",
    "        aggregated_dfs.append(_.reset_index())\n",
    "\n",
    "    return pd.concat(aggregated_dfs)\n",
    "\n",
    "print(\"Aggregating train...\")\n",
    "agg_features_train = get_aggregate_features(train)\n",
    "print(\"Aggregating test...\")\n",
    "agg_features_test = get_aggregate_features(test)"
   ],
   "metadata": {
    "collapsed": false,
    "pycharm": {
     "name": "#%%\n"
    }
   }
  },
  {
   "cell_type": "markdown",
   "source": [
    "### Base model"
   ],
   "metadata": {
    "collapsed": false,
    "pycharm": {
     "name": "#%% md\n"
    }
   }
  },
  {
   "cell_type": "code",
   "execution_count": null,
   "outputs": [],
   "source": [
    "model = LGBMClassifier(max_depth=10)\n",
    "\n",
    "def stratify_train_test(df) -> Tuple[pd.DataFrame, pd.DataFrame]:\n",
    "    \"\"\"\n",
    "    Get test/train split based on subjects\n",
    "    \"\"\"\n",
    "    # Simple test/train split based on subject\n",
    "    subjects_shuffled = np.random.permutation(df['subject'].unique())\n",
    "\n",
    "    train_cutoff = int(np.floor(len(subjects_shuffled) * 0.8))\n",
    "\n",
    "    train_subjects = subjects_shuffled[:train_cutoff]\n",
    "    test_subjects = subjects_shuffled[train_cutoff:]\n",
    "\n",
    "    train = df[df.subject.isin(train_subjects)].drop('subject', axis=1)\n",
    "    test = df[df.subject.isin(test_subjects)].drop('subject', axis=1)\n",
    "\n",
    "    return train, test\n",
    "\n",
    "stratified_train, stratified_test = stratify_train_test(train)\n",
    "\n",
    "X_train, y_train = stratified_train.drop('state', axis=1), stratified_train['state']\n",
    "X_test, y_test = stratified_test.drop('state', axis=1), stratified_test['state']"
   ],
   "metadata": {
    "collapsed": false,
    "pycharm": {
     "name": "#%%\n"
    }
   }
  },
  {
   "cell_type": "code",
   "execution_count": null,
   "outputs": [],
   "source": [
    "%%time\n",
    "\n",
    "model.fit(X_train,y_train)\n",
    "y_hat = model.predict_proba(X_test)[:, 1]"
   ],
   "metadata": {
    "collapsed": false,
    "pycharm": {
     "name": "#%%\n"
    }
   }
  },
  {
   "cell_type": "code",
   "execution_count": null,
   "outputs": [],
   "source": [
    "roc_auc_score(y_test, y_hat)"
   ],
   "metadata": {
    "collapsed": false,
    "pycharm": {
     "name": "#%%\n"
    }
   }
  },
  {
   "cell_type": "code",
   "execution_count": null,
   "outputs": [],
   "source": [
    "from ml_utils.visualise.features import plot_importances\n",
    "\n",
    "plot_importances(model, X_train.columns, 20)"
   ],
   "metadata": {
    "collapsed": false,
    "pycharm": {
     "name": "#%%\n"
    }
   }
  },
  {
   "cell_type": "markdown",
   "source": [],
   "metadata": {
    "collapsed": false,
    "pycharm": {
     "name": "#%% md\n"
    }
   }
  },
  {
   "cell_type": "markdown",
   "source": [
    "### Train final model"
   ],
   "metadata": {
    "collapsed": false,
    "pycharm": {
     "name": "#%% md\n"
    }
   }
  },
  {
   "cell_type": "code",
   "execution_count": null,
   "outputs": [],
   "source": [
    "N_CV = 5\n",
    "\n",
    "kfold = KFold(n_splits=N_CV)\n",
    "\n",
    "train_score = []\n",
    "valid_score = []\n",
    "test_set_preds = []\n",
    "\n",
    "X, y = train.drop('state', axis=1), train['state']\n",
    "\n",
    "subjects_shuffled = np.random.permutation(train['subject'].unique())\n",
    "\n",
    "# KFolds split by unique\n",
    "for fold, (train_subj, valid_subj) in enumerate(kfold.split(subjects_shuffled)):\n",
    "    print(f\"Running fold: {fold}...\")\n",
    "\n",
    "    train_fold = train[train['subject'].isin(train_subj)].drop(['subject'], axis=1)\n",
    "    valid_fold = train[train['subject'].isin(valid_subj)].drop(['subject'], axis=1)\n",
    "\n",
    "    X_train, y_train = train_fold.drop('state', axis=1), train_fold['state']\n",
    "    X_valid, y_valid = valid_fold.drop('state', axis=1), valid_fold['state']\n",
    "\n",
    "    model.fit(X_train, y_train)\n",
    "\n",
    "    y_hat_train = model.predict_proba(X_train)[:, 1]\n",
    "    y_hat_test = model.predict_proba(X_valid)[:, 1]\n",
    "\n",
    "    train_score.append(roc_auc_score(y_train, y_hat_train))\n",
    "    valid_score.append(roc_auc_score(y_valid, y_hat_test))\n",
    "\n",
    "    # Fold prediction on test set\n",
    "    y_hat = model.predict_proba(test.drop('sequence', axis=1))[:,1]\n",
    "    test_set_preds.append(y_hat)"
   ],
   "metadata": {
    "collapsed": false,
    "pycharm": {
     "name": "#%%\n"
    }
   }
  },
  {
   "cell_type": "markdown",
   "source": [],
   "metadata": {
    "collapsed": false,
    "pycharm": {
     "name": "#%% md\n"
    }
   }
  },
  {
   "cell_type": "code",
   "execution_count": null,
   "outputs": [],
   "source": [
    "results_df = pd.DataFrame({\n",
    "    \"fold\": list(range(N_CV)),\n",
    "    \"train\": train_score,\n",
    "    \"valid\": valid_score\n",
    "})\n",
    "results_df = pd.melt(results_df, id_vars=\"fold\", var_name=\"set\",value_name=\"accuracy\")\n",
    "print(f\"Mean train score {np.mean(train_score)}\")\n",
    "print(f\"Mean test score {np.mean(valid_score)}\")\n",
    "sns.barplot(data=results_df, x=\"fold\", y=\"accuracy\", hue=\"set\")"
   ],
   "metadata": {
    "collapsed": false,
    "pycharm": {
     "name": "#%%\n"
    }
   }
  },
  {
   "cell_type": "markdown",
   "source": [
    "### Submission"
   ],
   "metadata": {
    "collapsed": false,
    "pycharm": {
     "name": "#%% md\n"
    }
   }
  },
  {
   "cell_type": "code",
   "execution_count": null,
   "outputs": [],
   "source": [
    "submission = test[['sequence']].copy()\n",
    "submission['sequence'] = submission['sequence'].astype(int)\n",
    "submission[\"state\"] = np.mean(test_set_preds, axis=0)\n",
    "submission = submission.groupby('sequence')['state'].max().reset_index()\n",
    "submission.to_csv('Data/test_preds.csv', index=False)"
   ],
   "metadata": {
    "collapsed": false,
    "pycharm": {
     "name": "#%%\n"
    }
   }
  }
 ],
 "metadata": {
  "kernelspec": {
   "display_name": "Python 3",
   "language": "python",
   "name": "python3"
  },
  "language_info": {
   "codemirror_mode": {
    "name": "ipython",
    "version": 2
   },
   "file_extension": ".py",
   "mimetype": "text/x-python",
   "name": "python",
   "nbconvert_exporter": "python",
   "pygments_lexer": "ipython2",
   "version": "2.7.6"
  }
 },
 "nbformat": 4,
 "nbformat_minor": 0
}