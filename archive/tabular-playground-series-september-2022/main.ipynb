{
 "cells": [
  {
   "cell_type": "markdown",
   "metadata": {
    "pycharm": {
     "name": "#%% md\n"
    }
   },
   "source": [
    "### Tabular playground series - September 2021\n",
    "\n",
    "https://www.kaggle.com/competitions/tabular-playground-series-sep-2021/overview\n",
    "\n",
    "For this competition, you will predict whether a customer made a claim upon an insurance policy. The ground truth claim is binary valued, but a prediction may be any number from 0.0 to 1.0, representing the probability of a claim. The features in this dataset have been anonymized and may contain missing values."
   ]
  },
  {
   "cell_type": "markdown",
   "metadata": {
    "pycharm": {
     "name": "#%% md\n"
    }
   },
   "source": [
    "### Setup"
   ]
  },
  {
   "cell_type": "code",
   "execution_count": 1,
   "metadata": {
    "pycharm": {
     "name": "#%%\n"
    }
   },
   "outputs": [],
   "source": [
    "%%capture\n",
    "\n",
    "from catboost import CatBoostClassifier, Pool, cv\n",
    "import numpy as np\n",
    "import matplotlib.pyplot as plt\n",
    "import pandas as pd\n",
    "import seaborn as sns\n",
    "sns.set(rc = {'figure.figsize':(10, 6)})\n",
    "from sklearn.impute import SimpleImputer\n",
    "from sklearn.metrics import roc_auc_score\n",
    "from sklearn.model_selection import StratifiedKFold\n",
    "from sklearn.preprocessing import MinMaxScaler\n",
    "\n",
    "from ml_utils.preprocess.missing import check_missingness\n",
    "from ml_utils.preprocess.pipeline import preprocessing_pipeline"
   ]
  },
  {
   "cell_type": "markdown",
   "metadata": {
    "pycharm": {
     "name": "#%% md\n"
    }
   },
   "source": [
    "### Load data"
   ]
  },
  {
   "cell_type": "code",
   "execution_count": 2,
   "metadata": {
    "pycharm": {
     "name": "#%%\n"
    }
   },
   "outputs": [
    {
     "name": "stdout",
     "output_type": "stream",
     "text": [
      "Train shape (957919, 119)\n",
      "Test shape (493474, 119)\n"
     ]
    }
   ],
   "source": [
    "pipeline = {}\n",
    "\n",
    "train = pd.read_csv(\"Data/train.csv\")\n",
    "train.drop('id', axis=1, inplace=True)\n",
    "test = pd.read_csv(\"Data/test.csv\")\n",
    "\n",
    "print(f\"Train shape {train.shape}\")\n",
    "print(f\"Test shape {test.shape}\")"
   ]
  },
  {
   "cell_type": "code",
   "execution_count": 3,
   "metadata": {
    "pycharm": {
     "name": "#%%\n"
    }
   },
   "outputs": [
    {
     "data": {
      "text/plain": "        f1        f2         f3        f4       f5        f6       f7  \\\n0  0.10859  0.004314    -37.566  0.017364  0.28915 -10.25100   135.12   \n1  0.10090  0.299610  11822.000  0.276500  0.45970  -0.83733  1721.90   \n2  0.17803 -0.006980    907.270  0.272140  0.45948   0.17327  2298.00   \n3  0.15236  0.007259    780.100  0.025179  0.51947   7.49140   112.51   \n4  0.11623  0.502900   -109.150  0.297910  0.34490  -0.40932  2538.90   \n\n         f8            f9        f10  ...     f110    f111     f112      f113  \\\n0  168900.0  3.992400e+14     86.489  ... -12.2280  1.7482  1.90960  -7.11570   \n1  119810.0  3.874100e+15   9953.600  ... -56.7580  4.1684  0.34808   4.14200   \n2  360650.0  1.224500e+13  15827.000  ...  -5.7688  1.2042  0.26290   8.13120   \n3  259490.0  7.781400e+13    -36.837  ... -34.8580  2.0694  0.79631 -16.33600   \n4   65332.0  1.907200e+15    144.120  ... -13.6410  1.5298  1.14640  -0.43124   \n\n       f114    f115          f116    f117     f118  claim  \n0   4378.80  1.2096  8.613400e+14   140.1  1.01770      1  \n1    913.23  1.2464  7.575100e+15  1861.0  0.28359      0  \n2  45119.00  1.1764  3.218100e+14  3838.2  0.40690      1  \n3   4952.40  1.1784  4.533000e+12  4889.1  0.51486      1  \n4   3856.50  1.4830 -8.991300e+12     NaN  0.23049      1  \n\n[5 rows x 119 columns]",
      "text/html": "<div>\n<style scoped>\n    .dataframe tbody tr th:only-of-type {\n        vertical-align: middle;\n    }\n\n    .dataframe tbody tr th {\n        vertical-align: top;\n    }\n\n    .dataframe thead th {\n        text-align: right;\n    }\n</style>\n<table border=\"1\" class=\"dataframe\">\n  <thead>\n    <tr style=\"text-align: right;\">\n      <th></th>\n      <th>f1</th>\n      <th>f2</th>\n      <th>f3</th>\n      <th>f4</th>\n      <th>f5</th>\n      <th>f6</th>\n      <th>f7</th>\n      <th>f8</th>\n      <th>f9</th>\n      <th>f10</th>\n      <th>...</th>\n      <th>f110</th>\n      <th>f111</th>\n      <th>f112</th>\n      <th>f113</th>\n      <th>f114</th>\n      <th>f115</th>\n      <th>f116</th>\n      <th>f117</th>\n      <th>f118</th>\n      <th>claim</th>\n    </tr>\n  </thead>\n  <tbody>\n    <tr>\n      <th>0</th>\n      <td>0.10859</td>\n      <td>0.004314</td>\n      <td>-37.566</td>\n      <td>0.017364</td>\n      <td>0.28915</td>\n      <td>-10.25100</td>\n      <td>135.12</td>\n      <td>168900.0</td>\n      <td>3.992400e+14</td>\n      <td>86.489</td>\n      <td>...</td>\n      <td>-12.2280</td>\n      <td>1.7482</td>\n      <td>1.90960</td>\n      <td>-7.11570</td>\n      <td>4378.80</td>\n      <td>1.2096</td>\n      <td>8.613400e+14</td>\n      <td>140.1</td>\n      <td>1.01770</td>\n      <td>1</td>\n    </tr>\n    <tr>\n      <th>1</th>\n      <td>0.10090</td>\n      <td>0.299610</td>\n      <td>11822.000</td>\n      <td>0.276500</td>\n      <td>0.45970</td>\n      <td>-0.83733</td>\n      <td>1721.90</td>\n      <td>119810.0</td>\n      <td>3.874100e+15</td>\n      <td>9953.600</td>\n      <td>...</td>\n      <td>-56.7580</td>\n      <td>4.1684</td>\n      <td>0.34808</td>\n      <td>4.14200</td>\n      <td>913.23</td>\n      <td>1.2464</td>\n      <td>7.575100e+15</td>\n      <td>1861.0</td>\n      <td>0.28359</td>\n      <td>0</td>\n    </tr>\n    <tr>\n      <th>2</th>\n      <td>0.17803</td>\n      <td>-0.006980</td>\n      <td>907.270</td>\n      <td>0.272140</td>\n      <td>0.45948</td>\n      <td>0.17327</td>\n      <td>2298.00</td>\n      <td>360650.0</td>\n      <td>1.224500e+13</td>\n      <td>15827.000</td>\n      <td>...</td>\n      <td>-5.7688</td>\n      <td>1.2042</td>\n      <td>0.26290</td>\n      <td>8.13120</td>\n      <td>45119.00</td>\n      <td>1.1764</td>\n      <td>3.218100e+14</td>\n      <td>3838.2</td>\n      <td>0.40690</td>\n      <td>1</td>\n    </tr>\n    <tr>\n      <th>3</th>\n      <td>0.15236</td>\n      <td>0.007259</td>\n      <td>780.100</td>\n      <td>0.025179</td>\n      <td>0.51947</td>\n      <td>7.49140</td>\n      <td>112.51</td>\n      <td>259490.0</td>\n      <td>7.781400e+13</td>\n      <td>-36.837</td>\n      <td>...</td>\n      <td>-34.8580</td>\n      <td>2.0694</td>\n      <td>0.79631</td>\n      <td>-16.33600</td>\n      <td>4952.40</td>\n      <td>1.1784</td>\n      <td>4.533000e+12</td>\n      <td>4889.1</td>\n      <td>0.51486</td>\n      <td>1</td>\n    </tr>\n    <tr>\n      <th>4</th>\n      <td>0.11623</td>\n      <td>0.502900</td>\n      <td>-109.150</td>\n      <td>0.297910</td>\n      <td>0.34490</td>\n      <td>-0.40932</td>\n      <td>2538.90</td>\n      <td>65332.0</td>\n      <td>1.907200e+15</td>\n      <td>144.120</td>\n      <td>...</td>\n      <td>-13.6410</td>\n      <td>1.5298</td>\n      <td>1.14640</td>\n      <td>-0.43124</td>\n      <td>3856.50</td>\n      <td>1.4830</td>\n      <td>-8.991300e+12</td>\n      <td>NaN</td>\n      <td>0.23049</td>\n      <td>1</td>\n    </tr>\n  </tbody>\n</table>\n<p>5 rows × 119 columns</p>\n</div>"
     },
     "execution_count": 3,
     "metadata": {},
     "output_type": "execute_result"
    }
   ],
   "source": [
    "train.head()"
   ]
  },
  {
   "cell_type": "markdown",
   "metadata": {
    "pycharm": {
     "name": "#%% md\n"
    }
   },
   "source": [
    "\n",
    "### Basic EDA\n",
    "\n",
    "\n",
    "The training dataset is quite large with almost 1 million rows. Take a random sample of 10% of the data for analysis, before training on all of the data."
   ]
  },
  {
   "cell_type": "code",
   "execution_count": 4,
   "metadata": {
    "pycharm": {
     "name": "#%%\n"
    }
   },
   "outputs": [],
   "source": [
    "train_sample = train.sample(100000)"
   ]
  },
  {
   "cell_type": "code",
   "execution_count": 5,
   "metadata": {
    "pycharm": {
     "name": "#%%\n"
    }
   },
   "outputs": [],
   "source": [
    "def get_col_summary(df: pd.DataFrame) -> pd.DataFrame:\n",
    "\n",
    "    # Min max scale so variances are comparable\n",
    "    df = pd.DataFrame(MinMaxScaler().fit_transform(df), columns=df.columns)\n",
    "\n",
    "    summary_fns = {\n",
    "        \"variance\": np.var,\n",
    "        \"mean\": np.mean,\n",
    "        \"median\": np.median\n",
    "    }\n",
    "\n",
    "    _ = []\n",
    "    for name, fn in summary_fns.items():\n",
    "        _.append(df.apply(fn).to_frame(name=name))\n",
    "\n",
    "    summary_df = pd.concat(_, axis=1)\n",
    "\n",
    "    # Ignore var3 as this has already been analysed/dealt with \n",
    "    summary_df = summary_df[~summary_df.index.isin([\"var3\"])]\n",
    "\n",
    "    return summary_df\n",
    "\n",
    "col_summary = get_col_summary(train_sample)"
   ]
  },
  {
   "cell_type": "code",
   "execution_count": 6,
   "metadata": {
    "pycharm": {
     "name": "#%%\n"
    }
   },
   "outputs": [
    {
     "data": {
      "text/plain": "<AxesSubplot:xlabel='variance', ylabel='Count'>"
     },
     "execution_count": 6,
     "metadata": {},
     "output_type": "execute_result"
    },
    {
     "data": {
      "text/plain": "<Figure size 720x432 with 1 Axes>",
      "image/png": "[encoded data removed]"
     },
     "metadata": {},
     "output_type": "display_data"
    }
   ],
   "source": [
    "# Distribution of column variances\n",
    "sns.histplot(col_summary[\"variance\"], bins=20)"
   ]
  },
  {
   "cell_type": "code",
   "execution_count": 7,
   "metadata": {
    "pycharm": {
     "name": "#%%\n"
    }
   },
   "outputs": [
    {
     "data": {
      "text/plain": "<AxesSubplot:xlabel='mean', ylabel='Count'>"
     },
     "execution_count": 7,
     "metadata": {},
     "output_type": "execute_result"
    },
    {
     "data": {
      "text/plain": "<Figure size 720x432 with 1 Axes>",
      "image/png": "[encoded data removed]"
     },
     "metadata": {},
     "output_type": "display_data"
    }
   ],
   "source": [
    "# Distribution of column means\n",
    "sns.histplot(col_summary[\"mean\"], bins=20)"
   ]
  },
  {
   "cell_type": "markdown",
   "metadata": {
    "pycharm": {
     "name": "#%% md\n"
    }
   },
   "source": [
    "Looks like the data has already been normalised, continue to use all features for now."
   ]
  },
  {
   "cell_type": "markdown",
   "metadata": {
    "pycharm": {
     "name": "#%% md\n"
    }
   },
   "source": [
    "**Class imbalance**"
   ]
  },
  {
   "cell_type": "code",
   "execution_count": 8,
   "metadata": {
    "pycharm": {
     "name": "#%%\n"
    }
   },
   "outputs": [
    {
     "data": {
      "text/plain": "1    0.50099\n0    0.49901\nName: claim, dtype: float64"
     },
     "execution_count": 8,
     "metadata": {},
     "output_type": "execute_result"
    }
   ],
   "source": [
    "train_sample['claim'].value_counts() / len(train_sample)"
   ]
  },
  {
   "cell_type": "markdown",
   "source": [
    "### Missingness analysis"
   ],
   "metadata": {
    "collapsed": false,
    "pycharm": {
     "name": "#%% md\n"
    }
   }
  },
  {
   "cell_type": "code",
   "execution_count": 9,
   "outputs": [
    {
     "data": {
      "text/plain": "<AxesSubplot:ylabel='Count'>"
     },
     "execution_count": 9,
     "metadata": {},
     "output_type": "execute_result"
    },
    {
     "data": {
      "text/plain": "<Figure size 720x432 with 1 Axes>",
      "image/png": "[encoded data removed]"
     },
     "metadata": {},
     "output_type": "display_data"
    }
   ],
   "source": [
    "train_missingness = check_missingness(train)\n",
    "sns.histplot(train_missingness)"
   ],
   "metadata": {
    "collapsed": false,
    "pycharm": {
     "name": "#%%\n"
    }
   }
  },
  {
   "cell_type": "markdown",
   "source": [
    "118 of the columns have some missing data. All of these have low levels of missingness (c1.5%)."
   ],
   "metadata": {
    "collapsed": false,
    "pycharm": {
     "name": "#%% md\n"
    }
   }
  },
  {
   "cell_type": "markdown",
   "source": [
    "Analyse missing data for:\n",
    "1. **Individual features**: does missing data at the feature level affect % claim?\n",
    "2. **Row level** does the number of missing data points in each row help predict the target?"
   ],
   "metadata": {
    "collapsed": false,
    "pycharm": {
     "name": "#%% md\n"
    }
   }
  },
  {
   "cell_type": "markdown",
   "source": [
    "**Feature level missingness**"
   ],
   "metadata": {
    "collapsed": false,
    "pycharm": {
     "name": "#%% md\n"
    }
   }
  },
  {
   "cell_type": "code",
   "execution_count": 10,
   "outputs": [
    {
     "data": {
      "text/plain": "<Figure size 720x432 with 1 Axes>",
      "image/png": "[encoded data removed]"
     },
     "metadata": {},
     "output_type": "display_data"
    }
   ],
   "source": [
    "def plot_feature_missing_data_impact():\n",
    "    \"\"\"\n",
    "    For each feature, calculate and plot the increase in claim %\n",
    "    when data is non-missing compared to missing\n",
    "    \"\"\"\n",
    "\n",
    "    missing_impact = {}\n",
    "\n",
    "    temp_train = (\n",
    "        train\n",
    "            .copy()\n",
    "            .isna()\n",
    "            .drop('claim', axis=1)\n",
    "    )\n",
    "    temp_train = pd.concat([temp_train, train[\"claim\"]], axis=1)\n",
    "\n",
    "    feature_cols = list(train.drop('claim', axis=1).columns)\n",
    "\n",
    "    for feature_col in feature_cols:\n",
    "        missing = temp_train[temp_train[feature_col]]\n",
    "        non_missing = temp_train[~temp_train[feature_col]]\n",
    "\n",
    "        missing_impact[feature_col] = {\n",
    "            \"missing\": missing['claim'].sum() / len(missing),\n",
    "            \"non-missing\": non_missing['claim'].sum() / len(non_missing)\n",
    "        }\n",
    "\n",
    "    df_missing = pd.DataFrame(missing_impact).T\n",
    "    df_missing['non_missing_uplift'] = df_missing['missing'] - df_missing['non-missing']\n",
    "\n",
    "    ax = sns.histplot(df_missing['non_missing_uplift'])\n",
    "    ax.set_title('Distribution of difference in % claims between missing and non-missing data for each feature')\n",
    "    plt.show()\n",
    "\n",
    "plot_feature_missing_data_impact()"
   ],
   "metadata": {
    "collapsed": false,
    "pycharm": {
     "name": "#%%\n"
    }
   }
  },
  {
   "cell_type": "markdown",
   "source": [
    "**Conclusion of feature level missingness analysis**\n",
    "\n",
    "For each feature, the missing data has a significant impact on the target variable.\n",
    "\n",
    "To capture this in the model, add additional features signifying whether or not that feature was imputed (originally missing)."
   ],
   "metadata": {
    "collapsed": false,
    "pycharm": {
     "name": "#%% md\n"
    }
   }
  },
  {
   "cell_type": "code",
   "execution_count": 11,
   "outputs": [],
   "source": [
    "%%capture\n",
    "\n",
    "def add_imputed_features(df):\n",
    "    df = df.copy()\n",
    "\n",
    "    try:\n",
    "        feature_cols = list(df.drop('claim', axis=1).columns)\n",
    "    except:\n",
    "        feature_cols = list(df.columns)\n",
    "\n",
    "    for feature_col in feature_cols:\n",
    "        df[f\"{feature_col}_imputed\"] = np.where(df[feature_col].isna(), 1, 0)\n",
    "\n",
    "    return df\n",
    "\n",
    "train = add_imputed_features(train)\n",
    "\n",
    "pipeline[\"add_imputed_features\"] = (add_imputed_features, None)\n"
   ],
   "metadata": {
    "collapsed": false,
    "pycharm": {
     "name": "#%%\n"
    }
   }
  },
  {
   "cell_type": "markdown",
   "source": [
    "**Row level missingness**"
   ],
   "metadata": {
    "collapsed": false,
    "pycharm": {
     "name": "#%% md\n"
    }
   }
  },
  {
   "cell_type": "code",
   "execution_count": 12,
   "outputs": [
    {
     "data": {
      "text/plain": "<seaborn.axisgrid.FacetGrid at 0x219898fb850>"
     },
     "execution_count": 12,
     "metadata": {},
     "output_type": "execute_result"
    },
    {
     "data": {
      "text/plain": "<Figure size 720x720 with 3 Axes>",
      "image/png": "[encoded data removed]"
     },
     "metadata": {},
     "output_type": "display_data"
    }
   ],
   "source": [
    "def get_row_level_missingness(df):\n",
    "    \"\"\"\n",
    "    Get high level row missingness statistics and look at impact\n",
    "    on target\n",
    "    \"\"\"\n",
    "    df_no_target = df.copy().drop('claim', axis=1)\n",
    "\n",
    "    try:\n",
    "        df_no_target = df.copy().drop('claim', axis=1)\n",
    "    except:\n",
    "        df_no_target = df.copy()\n",
    "\n",
    "    any_missing = df_no_target.isna().any(axis=1)\n",
    "    any_missing = any_missing.to_frame(name=\"any\")\n",
    "\n",
    "    sum_missing = df_no_target.isna().sum(axis=1)\n",
    "    sum_missing = sum_missing.to_frame(name=\"sum\")\n",
    "\n",
    "    mean_missing = df_no_target.isna().mean(axis=1)\n",
    "    mean_missing = mean_missing.to_frame(name=\"mean\")\n",
    "\n",
    "    std_missing = df_no_target.isna().std(axis=1)\n",
    "    std_missing = std_missing.to_frame(name=\"std\")\n",
    "\n",
    "    row_missing = pd.concat([\n",
    "        any_missing,\n",
    "        sum_missing,\n",
    "        mean_missing,\n",
    "        std_missing,\n",
    "        train['claim']\n",
    "    ], axis=1)\n",
    "\n",
    "    return row_missing\n",
    "\n",
    "row_missingness = get_row_level_missingness(train)\n",
    "\n",
    "sns.catplot(\n",
    "    data=row_missingness.drop('any', axis=1).melt(id_vars='claim'),\n",
    "    x='claim', y='value',\n",
    "    col='variable', kind='box', col_wrap=2,\n",
    "    sharey=False\n",
    ")"
   ],
   "metadata": {
    "collapsed": false,
    "pycharm": {
     "name": "#%%\n"
    }
   }
  },
  {
   "cell_type": "markdown",
   "source": [
    "**Conclusion of row level missingness analysis**\n",
    "\n",
    "Sum, mean and standard deviation of missing data within row have a noticable impact on target. Add features for these"
   ],
   "metadata": {
    "collapsed": false,
    "pycharm": {
     "name": "#%% md\n"
    }
   }
  },
  {
   "cell_type": "code",
   "execution_count": 13,
   "outputs": [],
   "source": [
    "# Impute the rest of the missing with mean\n",
    "def impute_missing(df: pd.DataFrame) -> pd.DataFrame:\n",
    "    col_names = df.columns\n",
    "    df = pd.DataFrame(\n",
    "        SimpleImputer(strategy=\"mean\").fit_transform(df),\n",
    "        columns=col_names\n",
    "    )\n",
    "    return df\n",
    "\n",
    "pipeline[\"impute\"] = (impute_missing, None)\n",
    "\n",
    "train = impute_missing(train)"
   ],
   "metadata": {
    "collapsed": false,
    "pycharm": {
     "name": "#%%\n"
    }
   }
  },
  {
   "cell_type": "markdown",
   "metadata": {
    "pycharm": {
     "name": "#%% md\n"
    }
   },
   "source": [
    "### Outliers\n",
    "\n",
    "A lot of features aren't gaussian so can't reliably use z-scores for outliers.\n",
    "\n",
    "~~Instead use interquartile range.~~\n",
    "\n",
    "Some of the distributions are veryextremely skewed and a lot of the data are getting flagged as outliers.\n",
    "\n",
    "**Come back to this later, potentially look at whether removing the outliers improves that features predictability?**"
   ]
  },
  {
   "cell_type": "code",
   "execution_count": 14,
   "metadata": {
    "collapsed": false,
    "pycharm": {
     "name": "#%%\n"
    }
   },
   "outputs": [],
   "source": [
    "# x = train_sample['f112']\n",
    "# tol = 1.5\n",
    "\n",
    "# uq = np.percentile(x, 75)\n",
    "# lq = np.percentile(x, 25)\n",
    "# iqr = uq - lq\n",
    "\n",
    "# lower_lim = lq - (iqr * tol)\n",
    "# upper_lim = uq + (iqr * tol)"
   ]
  },
  {
   "cell_type": "markdown",
   "metadata": {
    "pycharm": {
     "name": "#%% md\n"
    }
   },
   "source": [
    "### Preprocess data"
   ]
  },
  {
   "cell_type": "code",
   "execution_count": 21,
   "metadata": {
    "pycharm": {
     "name": "#%%\n"
    }
   },
   "outputs": [],
   "source": [
    "test = preprocessing_pipeline(test, pipeline)"
   ]
  },
  {
   "cell_type": "markdown",
   "metadata": {
    "pycharm": {
     "name": "#%% md\n"
    }
   },
   "source": [
    "### Model\n",
    "\n",
    "The data set is very large. To avoid long train times with comparing a bunch of algorithms I'll be exclusively using catboost.\n",
    "\n",
    "Main reasons:\n",
    " - Avoiding excessive training times using slow sklearn models which gradient boosting will likely outperform\n",
    " - Performance increases are likely to be far greater by tuning a single algorithm and improving the quality of features"
   ]
  },
  {
   "cell_type": "code",
   "execution_count": 17,
   "metadata": {
    "pycharm": {
     "name": "#%%\n"
    }
   },
   "outputs": [],
   "source": [
    "X = train.drop(\"claim\", axis=1)\n",
    "y = train[\"claim\"]\n",
    "\n",
    "cat_params = {\n",
    "    \"iterations\": 10e3,\n",
    "    \"learning_rate\": 0.02,\n",
    "    \"depth\": 8,\n",
    "    \"min_data_in_leaf\": 11,\n",
    "    'od_wait': 1100\n",
    "}\n",
    "\n",
    "cb = CatBoostClassifier(\n",
    "    task_type=\"GPU\",\n",
    "    loss_function=\"Logloss\",\n",
    "    eval_metric=\"AUC\",\n",
    "    **cat_params\n",
    ")"
   ]
  },
  {
   "cell_type": "code",
   "execution_count": 18,
   "metadata": {
    "pycharm": {
     "name": "#%%\n"
    }
   },
   "outputs": [
    {
     "name": "stdout",
     "output_type": "stream",
     "text": [
      "Running fold: 0...\n",
      "Running fold: 1...\n",
      "Running fold: 2...\n",
      "Running fold: 3...\n",
      "Running fold: 4...\n"
     ]
    }
   ],
   "source": [
    "N_CV = 5\n",
    "\n",
    "kfold = StratifiedKFold(n_splits=N_CV)\n",
    "\n",
    "train_score = []\n",
    "valid_score = []\n",
    "test_set_preds = []\n",
    "\n",
    "for fold, (train_idx, valid_idx) in enumerate(kfold.split(X, y)):\n",
    "    print(f\"Running fold: {fold}...\")\n",
    "    X_train, y_train = X.iloc[train_idx], y[train_idx]\n",
    "    X_valid, y_valid = X.iloc[valid_idx], y[valid_idx]\n",
    "    \n",
    "    cb.fit(X_train, y_train)\n",
    "    \n",
    "    y_hat_train = cb.predict_proba(X_train)[:, 1]\n",
    "    y_hat_test = cb.predict_proba(X_valid)[:, 1]\n",
    "    \n",
    "    train_score.append(roc_auc_score(y_train, y_hat_train))\n",
    "    valid_score.append(roc_auc_score(y_valid, y_hat_test))\n",
    "    \n",
    "    # Fold prediction on test set\n",
    "    y_hat = cb.predict_proba(test)[:,1]\n",
    "    test_set_preds.append(y_hat)"
   ]
  },
  {
   "cell_type": "code",
   "execution_count": 19,
   "metadata": {
    "pycharm": {
     "name": "#%%\n"
    }
   },
   "outputs": [
    {
     "name": "stdout",
     "output_type": "stream",
     "text": [
      "Mean train score 0.874342646386235\n",
      "Mean test score 0.8042474551458936\n"
     ]
    },
    {
     "data": {
      "text/plain": "<AxesSubplot:xlabel='fold', ylabel='accuracy'>"
     },
     "execution_count": 19,
     "metadata": {},
     "output_type": "execute_result"
    },
    {
     "data": {
      "text/plain": "<Figure size 720x432 with 1 Axes>",
      "image/png": "[encoded data removed]"
     },
     "metadata": {},
     "output_type": "display_data"
    }
   ],
   "source": [
    "results_df = pd.DataFrame({\n",
    "    \"fold\": list(range(N_CV)),\n",
    "    \"train\": train_score,\n",
    "    \"valid\": valid_score\n",
    "})\n",
    "results_df = pd.melt(results_df, id_vars=\"fold\", var_name=\"set\",value_name=\"accuracy\")\n",
    "print(f\"Mean train score {np.mean(train_score)}\")\n",
    "print(f\"Mean test score {np.mean(valid_score)}\")\n",
    "sns.barplot(data=results_df, x=\"fold\", y=\"accuracy\", hue=\"set\")"
   ]
  },
  {
   "cell_type": "markdown",
   "metadata": {
    "pycharm": {
     "name": "#%% md\n"
    }
   },
   "source": [
    "### Final predictions and submission"
   ]
  },
  {
   "cell_type": "code",
   "execution_count": 20,
   "outputs": [],
   "source": [
    "submission = test[['id']].copy()\n",
    "submission['id'] = submission['id'].astype(int)\n",
    "submission[\"claim\"] = np.mean(test_set_preds, axis=0)\n",
    "submission.to_csv('Data/test_preds.csv', index=False)"
   ],
   "metadata": {
    "collapsed": false,
    "pycharm": {
     "name": "#%%\n"
    }
   }
  }
 ],
 "metadata": {
  "interpreter": {
   "hash": "5b48b5f661da551634919f8b0a859136ee1f6eba60cb5505c3a1b5c971c2b388"
  },
  "kernelspec": {
   "display_name": "Python 3.8.2 ('base')",
   "language": "python",
   "name": "python3"
  },
  "language_info": {
   "codemirror_mode": {
    "name": "ipython",
    "version": 3
   },
   "file_extension": ".py",
   "mimetype": "text/x-python",
   "name": "python",
   "nbconvert_exporter": "python",
   "pygments_lexer": "ipython3",
   "version": "3.8.2"
  },
  "orig_nbformat": 4
 },
 "nbformat": 4,
 "nbformat_minor": 2
}