{
 "cells": [
  {
   "cell_type": "markdown",
   "metadata": {},
   "source": [
    "# Santander Customer Satisfaction\n",
    "\n",
    "https://www.kaggle.com/c/santander-customer-satisfaction/overview\n",
    "\n",
    "From frontline support teams to C-suites, customer satisfaction is a key measure of success. Unhappy customers don't stick around. What's more, unhappy customers rarely voice their dissatisfaction before leaving.\n",
    "\n",
    "Santander Bank is asking Kagglers to help them identify dissatisfied customers early in their relationship. Doing so would allow Santander to take proactive steps to improve a customer's happiness before it's too late.\n",
    "\n",
    "In this competition, you'll work with hundreds of anonymized features to predict if a customer is satisfied or dissatisfied with their banking experience."
   ]
  },
  {
   "cell_type": "markdown",
   "metadata": {},
   "source": [
    "### Setup"
   ]
  },
  {
   "cell_type": "code",
   "execution_count": 2,
   "metadata": {},
   "outputs": [
    {
     "data": {
      "text/plain": [
       "'/Users/joshdidcote/Dev/kaggle-competitions/Santander-customer-satisfaction'"
      ]
     },
     "execution_count": 2,
     "metadata": {},
     "output_type": "execute_result"
    }
   ],
   "source": [
    "import os\n",
    "os.getcwd()"
   ]
  },
  {
   "cell_type": "code",
   "execution_count": 21,
   "metadata": {},
   "outputs": [],
   "source": [
    "from typing import List\n",
    "from pathlib import Path\n",
    "import os\n",
    "\n",
    "FILE_PATH = Path(\"Santander-customer-satisfaction\")\n",
    "is_correct_dir = Path(os.getcwd()).name == str(FILE_PATH)\n",
    "if is_correct_dir:\n",
    "    os.chdir(\"../\")\n",
    "\n",
    "import matplotlib.pyplot as plt\n",
    "import numpy as np\n",
    "import pandas as pd\n",
    "import seaborn as sns\n",
    "sns.set(rc = {'figure.figsize':(10, 6)})\n",
    "from sklearn.base import clone\n",
    "from sklearn.impute import SimpleImputer\n",
    "from sklearn.metrics import roc_auc_score\n",
    "from sklearn.model_selection import cross_val_score, StratifiedKFold\n",
    "from sklearn.preprocessing import MinMaxScaler\n",
    "from xgboost import XGBClassifier\n",
    "\n",
    "from mlutils.preprocess.missing import check_missingness\n",
    "from mlutils.preprocess.pipeline import extract_x_y, preprocessing_pipeline\n",
    "from mlutils.visualise.features import plot_importances"
   ]
  },
  {
   "cell_type": "code",
   "execution_count": 30,
   "metadata": {},
   "outputs": [],
   "source": [
    "pipeline = {}\n",
    "\n",
    "# Load data\n",
    "train = pd.read_csv(FILE_PATH / \"Data/train.csv\").drop(\"ID\", axis=1)\n",
    "test = pd.read_csv(FILE_PATH / \"Data/test.csv\").drop(\"ID\", axis=1)"
   ]
  },
  {
   "cell_type": "markdown",
   "metadata": {},
   "source": [
    "**No missing data**"
   ]
  },
  {
   "cell_type": "code",
   "execution_count": 3,
   "metadata": {},
   "outputs": [
    {
     "data": {
      "text/html": [
       "<div>\n",
       "<style scoped>\n",
       "    .dataframe tbody tr th:only-of-type {\n",
       "        vertical-align: middle;\n",
       "    }\n",
       "\n",
       "    .dataframe tbody tr th {\n",
       "        vertical-align: top;\n",
       "    }\n",
       "\n",
       "    .dataframe thead th {\n",
       "        text-align: right;\n",
       "    }\n",
       "</style>\n",
       "<table border=\"1\" class=\"dataframe\">\n",
       "  <thead>\n",
       "    <tr style=\"text-align: right;\">\n",
       "      <th></th>\n",
       "      <th>pct_missing</th>\n",
       "    </tr>\n",
       "  </thead>\n",
       "  <tbody>\n",
       "  </tbody>\n",
       "</table>\n",
       "</div>"
      ],
      "text/plain": [
       "Empty DataFrame\n",
       "Columns: [pct_missing]\n",
       "Index: []"
      ]
     },
     "execution_count": 3,
     "metadata": {},
     "output_type": "execute_result"
    }
   ],
   "source": [
    "check_missingness(train)"
   ]
  },
  {
   "cell_type": "markdown",
   "metadata": {},
   "source": [
    "Whilst analysing column variances, I spotted var3 has a lot of values with a value of -999999.00. \n",
    "\n",
    "Var3 was one of the most predictive feature from previous analysis - strategy will be to impute this using median for now and add a flag to show the value has been imputed.\n",
    "\n",
    "**Approximately 15% of these values are missing**"
   ]
  },
  {
   "cell_type": "code",
   "execution_count": 4,
   "metadata": {},
   "outputs": [
    {
     "data": {
      "text/plain": [
       " 2         74165\n",
       " 8           138\n",
       "-999999      116\n",
       " 9           110\n",
       " 3           108\n",
       "           ...  \n",
       " 231           1\n",
       " 188           1\n",
       " 168           1\n",
       " 135           1\n",
       " 87            1\n",
       "Name: var3, Length: 208, dtype: int64"
      ]
     },
     "execution_count": 4,
     "metadata": {},
     "output_type": "execute_result"
    }
   ],
   "source": [
    "train[\"var3\"].value_counts()"
   ]
  },
  {
   "cell_type": "code",
   "execution_count": 5,
   "metadata": {},
   "outputs": [],
   "source": [
    "def impute_var3(df: pd.DataFrame) -> pd.DataFrame:\n",
    "    df.loc[df[\"var3\"] == -999999, \"var3\"] = np.nan\n",
    "    imputer = SimpleImputer(strategy=\"median\")\n",
    "    df[\"var3_imputed\"] = np.where(df[\"var3\"].isna(), 1, 0)\n",
    "    df[[\"var3\"]] = imputer.fit_transform(df[[\"var3\"]])\n",
    "    return df\n",
    "\n",
    "pipeline[\"impute_var3\"] = (impute_var3, None)"
   ]
  },
  {
   "cell_type": "markdown",
   "metadata": {},
   "source": [
    "### EDA\n",
    "\n",
    "\n",
    "This data set is highly dimensional (370 features)."
   ]
  },
  {
   "cell_type": "code",
   "execution_count": 6,
   "metadata": {},
   "outputs": [
    {
     "data": {
      "text/plain": [
       "(76020, 370)"
      ]
     },
     "execution_count": 6,
     "metadata": {},
     "output_type": "execute_result"
    }
   ],
   "source": [
    "train.shape"
   ]
  },
  {
   "cell_type": "markdown",
   "metadata": {},
   "source": [
    "**Look at distribution of feature variances, mean and median**"
   ]
  },
  {
   "cell_type": "code",
   "execution_count": 7,
   "metadata": {},
   "outputs": [
    {
     "data": {
      "text/html": [
       "<div>\n",
       "<style scoped>\n",
       "    .dataframe tbody tr th:only-of-type {\n",
       "        vertical-align: middle;\n",
       "    }\n",
       "\n",
       "    .dataframe tbody tr th {\n",
       "        vertical-align: top;\n",
       "    }\n",
       "\n",
       "    .dataframe thead th {\n",
       "        text-align: right;\n",
       "    }\n",
       "</style>\n",
       "<table border=\"1\" class=\"dataframe\">\n",
       "  <thead>\n",
       "    <tr style=\"text-align: right;\">\n",
       "      <th></th>\n",
       "      <th>variance</th>\n",
       "      <th>mean</th>\n",
       "      <th>median</th>\n",
       "    </tr>\n",
       "  </thead>\n",
       "  <tbody>\n",
       "    <tr>\n",
       "      <th>var15</th>\n",
       "      <td>0.016787</td>\n",
       "      <td>0.282129</td>\n",
       "      <td>0.23</td>\n",
       "    </tr>\n",
       "    <tr>\n",
       "      <th>imp_ent_var16_ult1</th>\n",
       "      <td>0.000059</td>\n",
       "      <td>0.000411</td>\n",
       "      <td>0.00</td>\n",
       "    </tr>\n",
       "    <tr>\n",
       "      <th>imp_op_var39_comer_ult1</th>\n",
       "      <td>0.000693</td>\n",
       "      <td>0.005615</td>\n",
       "      <td>0.00</td>\n",
       "    </tr>\n",
       "    <tr>\n",
       "      <th>imp_op_var39_comer_ult3</th>\n",
       "      <td>0.000675</td>\n",
       "      <td>0.005685</td>\n",
       "      <td>0.00</td>\n",
       "    </tr>\n",
       "    <tr>\n",
       "      <th>imp_op_var40_comer_ult1</th>\n",
       "      <td>0.000128</td>\n",
       "      <td>0.000432</td>\n",
       "      <td>0.00</td>\n",
       "    </tr>\n",
       "  </tbody>\n",
       "</table>\n",
       "</div>"
      ],
      "text/plain": [
       "                         variance      mean  median\n",
       "var15                    0.016787  0.282129    0.23\n",
       "imp_ent_var16_ult1       0.000059  0.000411    0.00\n",
       "imp_op_var39_comer_ult1  0.000693  0.005615    0.00\n",
       "imp_op_var39_comer_ult3  0.000675  0.005685    0.00\n",
       "imp_op_var40_comer_ult1  0.000128  0.000432    0.00"
      ]
     },
     "execution_count": 7,
     "metadata": {},
     "output_type": "execute_result"
    }
   ],
   "source": [
    "def get_col_summary(df: pd.DataFrame) -> pd.DataFrame:\n",
    "\n",
    "    # Min max scale so variances are comparable\n",
    "    df = pd.DataFrame(MinMaxScaler().fit_transform(df), columns=df.columns)\n",
    "\n",
    "    summary_fns = {\n",
    "    \"variance\": np.var,\n",
    "    \"mean\": np.mean,\n",
    "    \"median\": np.median\n",
    "    }\n",
    "\n",
    "    _ = []\n",
    "    for name, fn in summary_fns.items():\n",
    "        _.append(df.apply(fn).to_frame(name=name))\n",
    "\n",
    "    summary_df = pd.concat(_, axis=1)\n",
    "\n",
    "    # Ignore var3 as this has already been analysed/dealt with \n",
    "    summary_df = summary_df[~summary_df.index.isin([\"var3\"])]\n",
    "\n",
    "    return summary_df\n",
    "\n",
    "col_summary = get_col_summary(train)\n",
    "col_summary.head()"
   ]
  },
  {
   "cell_type": "markdown",
   "metadata": {},
   "source": [
    "**First look at distribution of variance for each column**"
   ]
  },
  {
   "cell_type": "code",
   "execution_count": 8,
   "metadata": {},
   "outputs": [
    {
     "data": {
      "text/plain": [
       "<AxesSubplot:xlabel='variance', ylabel='Count'>"
      ]
     },
     "execution_count": 8,
     "metadata": {},
     "output_type": "execute_result"
    },
    {
     "data": {
      "image/png": "[encoded data removed]",
      "text/plain": [
       "<Figure size 720x432 with 1 Axes>"
      ]
     },
     "metadata": {},
     "output_type": "display_data"
    }
   ],
   "source": [
    "sns.histplot(col_summary[\"variance\"], bins=20)"
   ]
  },
  {
   "cell_type": "markdown",
   "metadata": {},
   "source": [
    "There is a significant number of columns with 0 or near zero variance.\n",
    "1. Remove any columns with exactly 0 variance as these will add no value\n",
    "1. Investigate very low variance columns, and whether they are predictive of the target"
   ]
  },
  {
   "cell_type": "code",
   "execution_count": 9,
   "metadata": {},
   "outputs": [],
   "source": [
    "def get_zero_var_cols(df: pd.DataFrame) -> List[str]:\n",
    "    \"\"\"Get columns with zero variance\n",
    "\n",
    "    Args:\n",
    "        df (pd.DataFrame): Output from get_col_summary\n",
    "\n",
    "    Returns:\n",
    "        pd.DataFrame: _description_\n",
    "    \"\"\"\n",
    "    return list(df[df[\"variance\"] == 0].index.values)\n"
   ]
  },
  {
   "cell_type": "code",
   "execution_count": 10,
   "metadata": {},
   "outputs": [
    {
     "name": "stdout",
     "output_type": "stream",
     "text": [
      "There are 34 (9.19%) columns with 0 variance. \n"
     ]
    }
   ],
   "source": [
    "# How many features have zero variance?\n",
    "zero_var_cols = get_zero_var_cols(col_summary)\n",
    "print(f\"There are {len(zero_var_cols)} ({np.round(len(zero_var_cols) / len(train.columns) * 100, 2)}%) columns with 0 variance. \")"
   ]
  },
  {
   "cell_type": "markdown",
   "metadata": {},
   "source": [
    "**Look at low variance columns and look at correlation with target**"
   ]
  },
  {
   "cell_type": "code",
   "execution_count": 11,
   "metadata": {},
   "outputs": [],
   "source": [
    "col_summary_pos_var = col_summary[~col_summary.index.isin(zero_var_cols)]"
   ]
  },
  {
   "cell_type": "code",
   "execution_count": 12,
   "metadata": {},
   "outputs": [],
   "source": [
    "def get_target_correlations(df: pd.DataFrame) -> pd.DataFrame:\n",
    "    \"\"\"\n",
    "    Calculate correlation between each variable and the target\n",
    "    \"\"\"\n",
    "    target_corrs = {}\n",
    "    for col in [x for x in df.columns if x != \"TARGET\"]:\n",
    "        _ = df[[col, \"TARGET\"]].corr()\n",
    "        target_corrs[col] = _.loc[_.index == col, \"TARGET\"].values\n",
    "    target_corr_df = pd.melt(pd.DataFrame(target_corrs), value_name=\"correlation\", var_name=\"col\")\n",
    "    target_corr_df.set_index(\"col\", inplace=True)\n",
    "    target_corr_df.index.name = None\n",
    "    return target_corr_df"
   ]
  },
  {
   "cell_type": "code",
   "execution_count": 13,
   "metadata": {},
   "outputs": [],
   "source": [
    "col_summary_pos_var = pd.merge(\n",
    "    col_summary_pos_var,\n",
    "    get_target_correlations(train),\n",
    "    left_index=True,\n",
    "    right_index=True,\n",
    "    how=\"left\"\n",
    ")"
   ]
  },
  {
   "cell_type": "code",
   "execution_count": 14,
   "metadata": {},
   "outputs": [
    {
     "data": {
      "text/html": [
       "<div>\n",
       "<style scoped>\n",
       "    .dataframe tbody tr th:only-of-type {\n",
       "        vertical-align: middle;\n",
       "    }\n",
       "\n",
       "    .dataframe tbody tr th {\n",
       "        vertical-align: top;\n",
       "    }\n",
       "\n",
       "    .dataframe thead th {\n",
       "        text-align: right;\n",
       "    }\n",
       "</style>\n",
       "<table border=\"1\" class=\"dataframe\">\n",
       "  <thead>\n",
       "    <tr style=\"text-align: right;\">\n",
       "      <th></th>\n",
       "      <th>variance</th>\n",
       "      <th>mean</th>\n",
       "      <th>median</th>\n",
       "      <th>correlation</th>\n",
       "    </tr>\n",
       "  </thead>\n",
       "  <tbody>\n",
       "    <tr>\n",
       "      <th>var15</th>\n",
       "      <td>0.016787</td>\n",
       "      <td>0.282129</td>\n",
       "      <td>0.230000</td>\n",
       "      <td>0.101322</td>\n",
       "    </tr>\n",
       "    <tr>\n",
       "      <th>imp_ent_var16_ult1</th>\n",
       "      <td>0.000059</td>\n",
       "      <td>0.000411</td>\n",
       "      <td>0.000000</td>\n",
       "      <td>-0.000017</td>\n",
       "    </tr>\n",
       "    <tr>\n",
       "      <th>imp_op_var39_comer_ult1</th>\n",
       "      <td>0.000693</td>\n",
       "      <td>0.005615</td>\n",
       "      <td>0.000000</td>\n",
       "      <td>0.010353</td>\n",
       "    </tr>\n",
       "    <tr>\n",
       "      <th>imp_op_var39_comer_ult3</th>\n",
       "      <td>0.000675</td>\n",
       "      <td>0.005685</td>\n",
       "      <td>0.000000</td>\n",
       "      <td>0.003517</td>\n",
       "    </tr>\n",
       "    <tr>\n",
       "      <th>imp_op_var40_comer_ult1</th>\n",
       "      <td>0.000128</td>\n",
       "      <td>0.000432</td>\n",
       "      <td>0.000000</td>\n",
       "      <td>0.003119</td>\n",
       "    </tr>\n",
       "    <tr>\n",
       "      <th>...</th>\n",
       "      <td>...</td>\n",
       "      <td>...</td>\n",
       "      <td>...</td>\n",
       "      <td>...</td>\n",
       "    </tr>\n",
       "    <tr>\n",
       "      <th>saldo_medio_var44_hace3</th>\n",
       "      <td>0.000036</td>\n",
       "      <td>0.000075</td>\n",
       "      <td>0.000000</td>\n",
       "      <td>-0.002553</td>\n",
       "    </tr>\n",
       "    <tr>\n",
       "      <th>saldo_medio_var44_ult1</th>\n",
       "      <td>0.000035</td>\n",
       "      <td>0.000112</td>\n",
       "      <td>0.000000</td>\n",
       "      <td>-0.003104</td>\n",
       "    </tr>\n",
       "    <tr>\n",
       "      <th>saldo_medio_var44_ult3</th>\n",
       "      <td>0.000051</td>\n",
       "      <td>0.000142</td>\n",
       "      <td>0.000000</td>\n",
       "      <td>-0.003015</td>\n",
       "    </tr>\n",
       "    <tr>\n",
       "      <th>var38</th>\n",
       "      <td>0.000069</td>\n",
       "      <td>0.005087</td>\n",
       "      <td>0.004596</td>\n",
       "      <td>-0.019510</td>\n",
       "    </tr>\n",
       "    <tr>\n",
       "      <th>TARGET</th>\n",
       "      <td>0.038003</td>\n",
       "      <td>0.039569</td>\n",
       "      <td>0.000000</td>\n",
       "      <td>NaN</td>\n",
       "    </tr>\n",
       "  </tbody>\n",
       "</table>\n",
       "<p>335 rows × 4 columns</p>\n",
       "</div>"
      ],
      "text/plain": [
       "                         variance      mean    median  correlation\n",
       "var15                    0.016787  0.282129  0.230000     0.101322\n",
       "imp_ent_var16_ult1       0.000059  0.000411  0.000000    -0.000017\n",
       "imp_op_var39_comer_ult1  0.000693  0.005615  0.000000     0.010353\n",
       "imp_op_var39_comer_ult3  0.000675  0.005685  0.000000     0.003517\n",
       "imp_op_var40_comer_ult1  0.000128  0.000432  0.000000     0.003119\n",
       "...                           ...       ...       ...          ...\n",
       "saldo_medio_var44_hace3  0.000036  0.000075  0.000000    -0.002553\n",
       "saldo_medio_var44_ult1   0.000035  0.000112  0.000000    -0.003104\n",
       "saldo_medio_var44_ult3   0.000051  0.000142  0.000000    -0.003015\n",
       "var38                    0.000069  0.005087  0.004596    -0.019510\n",
       "TARGET                   0.038003  0.039569  0.000000          NaN\n",
       "\n",
       "[335 rows x 4 columns]"
      ]
     },
     "execution_count": 14,
     "metadata": {},
     "output_type": "execute_result"
    }
   ],
   "source": [
    "col_summary_pos_var"
   ]
  },
  {
   "cell_type": "code",
   "execution_count": 15,
   "metadata": {},
   "outputs": [
    {
     "data": {
      "image/png": "[encoded data removed]",
      "text/plain": [
       "<Figure size 720x432 with 1 Axes>"
      ]
     },
     "metadata": {},
     "output_type": "display_data"
    }
   ],
   "source": [
    "ax = sns.scatterplot(x=col_summary_pos_var[\"variance\"], y=np.abs(col_summary_pos_var[\"correlation\"]))\n",
    "ax.set_title(\"Variance by absolute correlation\")\n",
    "plt.show()"
   ]
  },
  {
   "cell_type": "markdown",
   "metadata": {},
   "source": [
    "From the above plot it looks like there are a number of columns with very low variance by relatively high target correlation.\n",
    "\n",
    "Take a closer look at the low correlation/variance cols and see if we can remove these."
   ]
  },
  {
   "cell_type": "code",
   "execution_count": 16,
   "metadata": {},
   "outputs": [
    {
     "data": {
      "image/png": "[encoded data removed]",
      "text/plain": [
       "<Figure size 720x432 with 1 Axes>"
      ]
     },
     "metadata": {},
     "output_type": "display_data"
    }
   ],
   "source": [
    "col_var_cutoff = 0.01\n",
    "col_corr_cutoff = 0.04\n",
    "\n",
    "low_var_low_corr = col_summary_pos_var.copy()\n",
    "low_var_low_corr = low_var_low_corr.loc[(np.abs(low_var_low_corr.correlation) <= col_corr_cutoff) & (low_var_low_corr.variance <= col_var_cutoff)]\n",
    "\n",
    "\n",
    "ax = sns.scatterplot(x=low_var_low_corr[\"variance\"], y=np.abs(low_var_low_corr[\"correlation\"]))\n",
    "ax.set_title(\"Variance by absolute correlation (low target correlation and low variance columns)\")\n",
    "plt.show()"
   ]
  },
  {
   "cell_type": "markdown",
   "metadata": {},
   "source": [
    "**Can we build a model using these features that beats a random model**"
   ]
  },
  {
   "cell_type": "code",
   "execution_count": 17,
   "metadata": {},
   "outputs": [],
   "source": [
    "%%capture\n",
    "\n",
    "xgb_low_var = XGBClassifier()\n",
    "cv_low_var_data = cross_val_score(\n",
    "    xgb_low_var,\n",
    "    train[low_var_low_corr.index],\n",
    "    train[\"TARGET\"],\n",
    "    cv=2,\n",
    "    scoring=\"roc_auc\"\n",
    ")"
   ]
  },
  {
   "cell_type": "code",
   "execution_count": 18,
   "metadata": {},
   "outputs": [],
   "source": [
    "from sklearn.dummy import DummyClassifier\n",
    "\n",
    "dummy_clf = DummyClassifier(strategy=\"most_frequent\")\n",
    "\n",
    "cv_dummy_clf = cross_val_score(\n",
    "    dummy_clf,\n",
    "    train[low_var_low_corr.index],\n",
    "    train[\"TARGET\"],\n",
    "    cv=2,\n",
    "    scoring=\"roc_auc\"\n",
    ")"
   ]
  },
  {
   "cell_type": "code",
   "execution_count": 19,
   "metadata": {},
   "outputs": [
    {
     "name": "stdout",
     "output_type": "stream",
     "text": [
      "Low var/corr AUC: 0.7458566268908289\n",
      "Dummy classifier AUC 0.5\n"
     ]
    }
   ],
   "source": [
    "print(f\"Low var/corr AUC: {cv_low_var_data.mean()}\")\n",
    "print(f\"Dummy classifier AUC {cv_dummy_clf.mean()}\")"
   ]
  },
  {
   "cell_type": "markdown",
   "metadata": {},
   "source": [
    "Model with low var/corr features performs better than dummy classifier. Select most important features and drop the rest."
   ]
  },
  {
   "cell_type": "code",
   "execution_count": 20,
   "metadata": {},
   "outputs": [],
   "source": [
    "%%capture\n",
    "\n",
    "xgb_low_var.fit(\n",
    "    train[low_var_low_corr.index],\n",
    "    train[\"TARGET\"],\n",
    ")"
   ]
  },
  {
   "cell_type": "code",
   "execution_count": 21,
   "metadata": {},
   "outputs": [
    {
     "data": {
      "image/png": "[encoded data removed]",
      "text/plain": [
       "<Figure size 720x432 with 1 Axes>"
      ]
     },
     "metadata": {},
     "output_type": "display_data"
    }
   ],
   "source": [
    "importance_df = plot_importances(xgb_low_var, list(low_var_low_corr.index), 20, return_df=True)"
   ]
  },
  {
   "cell_type": "code",
   "execution_count": 22,
   "metadata": {},
   "outputs": [
    {
     "data": {
      "text/plain": [
       "<AxesSubplot:xlabel='Importance', ylabel='Count'>"
      ]
     },
     "execution_count": 22,
     "metadata": {},
     "output_type": "execute_result"
    },
    {
     "data": {
      "image/png": "[encoded data removed]",
      "text/plain": [
       "<Figure size 720x432 with 1 Axes>"
      ]
     },
     "metadata": {},
     "output_type": "display_data"
    }
   ],
   "source": [
    "sns.histplot(importance_df.Importance)"
   ]
  },
  {
   "cell_type": "markdown",
   "metadata": {},
   "source": [
    "A lot of the columns have 0 importance - remove these"
   ]
  },
  {
   "cell_type": "code",
   "execution_count": 23,
   "metadata": {},
   "outputs": [],
   "source": [
    "low_var_corr_no_imp_cols = list(importance_df[importance_df.Importance == 0].Feature)"
   ]
  },
  {
   "cell_type": "code",
   "execution_count": 25,
   "metadata": {},
   "outputs": [],
   "source": [
    "cols_to_remove = zero_var_cols + low_var_corr_no_imp_cols"
   ]
  },
  {
   "cell_type": "code",
   "execution_count": 27,
   "metadata": {},
   "outputs": [],
   "source": [
    "def remove_low_var_cols(df, cols: str) -> pd.DataFrame:\n",
    "    \"\"\"Removes columns from data frame\n",
    "\n",
    "    Args:\n",
    "        df (_type_): train/test set\n",
    "        cols (str): columns to remove\n",
    "\n",
    "    Returns:\n",
    "        pd.DataFrame: train/test without col\n",
    "    \"\"\"\n",
    "    return df.drop(cols, axis=1)\n",
    "pipeline[\"remove_low_var_cols\"] = (remove_low_var_cols, {\"cols\": cols_to_remove})"
   ]
  },
  {
   "cell_type": "markdown",
   "metadata": {},
   "source": [
    "**Target**"
   ]
  },
  {
   "cell_type": "code",
   "execution_count": 29,
   "metadata": {},
   "outputs": [
    {
     "name": "stdout",
     "output_type": "stream",
     "text": [
      "Positive class: 3.96%\n"
     ]
    },
    {
     "name": "stderr",
     "output_type": "stream",
     "text": [
      "C:\\Users\\joshu\\.virtualenvs\\kaggle-competitions-jWZu0GdS\\lib\\site-packages\\seaborn\\_decorators.py:36: FutureWarning: Pass the following variables as keyword args: x, y. From version 0.12, the only valid positional argument will be `data`, and passing other arguments without an explicit keyword will result in an error or misinterpretation.\n",
      "  warnings.warn(\n"
     ]
    },
    {
     "data": {
      "image/png": "[encoded data removed]",
      "text/plain": [
       "<Figure size 720x432 with 1 Axes>"
      ]
     },
     "metadata": {},
     "output_type": "display_data"
    }
   ],
   "source": [
    "def plot_target_imbalance(df: pd.DataFrame) -> pd.DataFrame:\n",
    "    df = np.round(df[\"TARGET\"].value_counts() / df.shape[0] * 100, 2).reset_index()\n",
    "    df.columns = [\"TARGET\", \"pct\"]\n",
    "    sns.barplot(df[\"TARGET\"], df[\"pct\"])\n",
    "\n",
    "plot_target_imbalance(train)\n",
    "print(f'Positive class: {np.round(sum(train[\"TARGET\"] == 1) / train.shape[0]*100, 2)}%')"
   ]
  },
  {
   "cell_type": "markdown",
   "metadata": {},
   "source": [
    "### Preprocessing"
   ]
  },
  {
   "cell_type": "code",
   "execution_count": 31,
   "metadata": {},
   "outputs": [],
   "source": [
    "train = preprocessing_pipeline(train, pipeline=pipeline)\n",
    "test = preprocessing_pipeline(test, pipeline=pipeline)"
   ]
  },
  {
   "cell_type": "code",
   "execution_count": 32,
   "metadata": {},
   "outputs": [],
   "source": [
    "X, y = extract_x_y(train, \"TARGET\")"
   ]
  },
  {
   "cell_type": "markdown",
   "metadata": {},
   "source": [
    "### Dealing with class imbalance"
   ]
  },
  {
   "cell_type": "markdown",
   "metadata": {},
   "source": [
    "### Basline models"
   ]
  },
  {
   "cell_type": "markdown",
   "metadata": {},
   "source": [
    "**XGBoost**"
   ]
  },
  {
   "cell_type": "code",
   "execution_count": 41,
   "metadata": {},
   "outputs": [],
   "source": [
    "%%capture\n",
    "from xgboost import XGBClassifier\n",
    "\n",
    "xgb = XGBClassifier()\n",
    "cv_results_xgb = cross_val_score(xgb, X, y, cv=5, scoring=\"roc_auc\")"
   ]
  },
  {
   "cell_type": "code",
   "execution_count": 91,
   "metadata": {},
   "outputs": [
    {
     "data": {
      "text/plain": [
       "0.8208798870308283"
      ]
     },
     "execution_count": 91,
     "metadata": {},
     "output_type": "execute_result"
    }
   ],
   "source": [
    "cv_results_xgb.mean()"
   ]
  },
  {
   "cell_type": "markdown",
   "metadata": {},
   "source": [
    "**Catboost**"
   ]
  },
  {
   "cell_type": "code",
   "execution_count": 2,
   "metadata": {},
   "outputs": [],
   "source": [
    "from catboost import CatBoostClassifier, Pool, cv\n",
    "\n",
    "cb = CatBoostClassifier(task_type=\"GPU\")\n",
    "cv_results_cb = cross_val_score(cb, X, y, cv=5, scoring=\"roc_auc\",)"
   ]
  },
  {
   "cell_type": "code",
   "execution_count": 92,
   "metadata": {},
   "outputs": [
    {
     "data": {
      "text/plain": [
       "0.8383017648146358"
      ]
     },
     "execution_count": 92,
     "metadata": {},
     "output_type": "execute_result"
    }
   ],
   "source": [
    "cv_results_cb.mean()"
   ]
  },
  {
   "cell_type": "markdown",
   "metadata": {},
   "source": [
    "**Tune**"
   ]
  },
  {
   "cell_type": "code",
   "execution_count": 1,
   "metadata": {},
   "outputs": [],
   "source": [
    "from sklearn.model_selection import GridSearchCV\n",
    "\n",
    "params = {\n",
    "    'max_depth': list(range(3, 10)),\n",
    "    'n_estimators':[100, 200, 300]\n",
    "}\n",
    "\n",
    "#Instantiate GridSearchCV\n",
    "grid_search = GridSearchCV(estimator = cb, param_grid = params, scoring ='roc_auc', cv = 5)\n",
    "grid_search.fit(X, y)"
   ]
  },
  {
   "cell_type": "code",
   "execution_count": 83,
   "metadata": {},
   "outputs": [
    {
     "data": {
      "text/plain": [
       "{'max_depth': 6, 'n_estimators': 300}"
      ]
     },
     "execution_count": 83,
     "metadata": {},
     "output_type": "execute_result"
    }
   ],
   "source": [
    "grid_search.best_params_"
   ]
  },
  {
   "cell_type": "code",
   "execution_count": 84,
   "metadata": {},
   "outputs": [],
   "source": [
    "best_model = grid_search.best_estimator_"
   ]
  },
  {
   "cell_type": "code",
   "execution_count": 3,
   "metadata": {},
   "outputs": [],
   "source": [
    "%%capture\n",
    "\n",
    "N_CV = 5\n",
    "\n",
    "kfold = StratifiedKFold(n_splits=N_CV)\n",
    "\n",
    "train_accuracy, test_accuracy = [], []\n",
    "\n",
    "for train_idx, test_idx in kfold.split(X, y):\n",
    "    X_train, y_train = X.iloc[train_idx], y[train_idx]\n",
    "    X_test, y_test = X.iloc[test_idx], y[test_idx]\n",
    "\n",
    "    best_model.fit(X_train, y_train)\n",
    "    y_hat_train = best_model.predict_proba(X_train)[:, 1]\n",
    "    y_hat_test = best_model.predict_proba(X_test)[:, 1]\n",
    "\n",
    "    train_accuracy.append(roc_auc_score(y_train, y_hat_train))\n",
    "    test_accuracy.append(roc_auc_score(y_test, y_hat_test))"
   ]
  },
  {
   "cell_type": "code",
   "execution_count": 86,
   "metadata": {},
   "outputs": [
    {
     "name": "stdout",
     "output_type": "stream",
     "text": [
      "Mean train score 0.8762237580245602\n",
      "Mean test score 0.8380787122523732\n"
     ]
    },
    {
     "data": {
      "text/plain": [
       "<AxesSubplot:xlabel='fold', ylabel='accuracy'>"
      ]
     },
     "execution_count": 86,
     "metadata": {},
     "output_type": "execute_result"
    },
    {
     "data": {
      "image/png": "[encoded data removed]",
      "text/plain": [
       "<Figure size 720x432 with 1 Axes>"
      ]
     },
     "metadata": {},
     "output_type": "display_data"
    }
   ],
   "source": [
    "results_df = pd.DataFrame({\n",
    "    \"fold\": list(range(N_CV)),\n",
    "    \"train\": train_accuracy,\n",
    "    \"test\": test_accuracy\n",
    "})\n",
    "results_df = pd.melt(results_df, id_vars=\"fold\", var_name=\"set\",value_name=\"accuracy\")\n",
    "print(f\"Mean train score {np.mean(train_accuracy)}\")\n",
    "print(f\"Mean test score {np.mean(test_accuracy)}\")\n",
    "sns.barplot(data=results_df, x=\"fold\", y=\"accuracy\", hue=\"set\")"
   ]
  },
  {
   "cell_type": "markdown",
   "metadata": {},
   "source": [
    "### Predict test set and submit"
   ]
  },
  {
   "cell_type": "code",
   "execution_count": 4,
   "metadata": {},
   "outputs": [],
   "source": [
    "%%capture\n",
    "\n",
    "best_model.fit(X, y)"
   ]
  },
  {
   "cell_type": "code",
   "execution_count": 88,
   "metadata": {},
   "outputs": [],
   "source": [
    "# Load test set\n",
    "test = pd.read_csv(FILE_PATH / \"Data/test.csv\")\n",
    "test[\"TARGET\"] = best_model.predict_proba(test)[:, 1]"
   ]
  },
  {
   "cell_type": "code",
   "execution_count": 89,
   "metadata": {},
   "outputs": [],
   "source": [
    "test[[\"ID\", \"TARGET\"]].to_csv(FILE_PATH / \"Data/test_predictions.csv\", index=False)"
   ]
  }
 ],
 "metadata": {
  "interpreter": {
   "hash": "6782966d74822d4fe6ccd07923508d52cb6c65d41001e017cf23200418ada0b4"
  },
  "kernelspec": {
   "display_name": "Python 3",
   "language": "python",
   "name": "python3"
  },
  "language_info": {
   "codemirror_mode": {
    "name": "ipython",
    "version": 3
   },
   "file_extension": ".py",
   "mimetype": "text/x-python",
   "name": "python",
   "nbconvert_exporter": "python",
   "pygments_lexer": "ipython3",
   "version": "3.8.2"
  }
 },
 "nbformat": 4,
 "nbformat_minor": 2
}
