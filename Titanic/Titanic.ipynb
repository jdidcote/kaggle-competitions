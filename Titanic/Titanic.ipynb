{
 "cells": [
  {
   "cell_type": "markdown",
   "metadata": {},
   "source": [
    "# Titanic"
   ]
  },
  {
   "cell_type": "code",
   "execution_count": 1,
   "metadata": {},
   "outputs": [],
   "source": [
    "%%capture\n",
    "\n",
    "from functools import partial\n",
    "from pathlib import Path\n",
    "from typing import Callable, Dict, List, Tuple\n",
    "import os\n",
    "\n",
    "is_titanic_dir = str(Path(os.getcwd())).rsplit(\"\\\\\")[-1] == \"Titanic\"\n",
    "\n",
    "if is_titanic_dir:\n",
    "    os.chdir(\"../\")\n",
    "\n",
    "import matplotlib.pyplot as plt\n",
    "from sklearn.impute import SimpleImputer\n",
    "from sklearn.model_selection import GridSearchCV, StratifiedKFold\n",
    "import pandas as pd\n",
    "import pickle\n",
    "import numpy as np\n",
    "import seaborn as sns\n",
    "sns.set(rc = {'figure.figsize':(15,8)})\n",
    "from xgboost import XGBClassifier\n",
    "\n",
    "from mlutils.model.baseline import AutoMLBaseline\n",
    "from mlutils.preprocess.missing import check_missingness\n",
    "from mlutils.visualise.features import (\n",
    "    feature_correlation_plot, \n",
    "    plot_importances, \n",
    "    plot_pct_by_group\n",
    ")"
   ]
  },
  {
   "cell_type": "code",
   "execution_count": 2,
   "metadata": {},
   "outputs": [],
   "source": [
    "def preprocessing_pipeline(\n",
    "    df: pd.DataFrame, \n",
    "    pipeline: Dict[str, Tuple[Callable, dict]],\n",
    ") -> pd.DataFrame:\n",
    "    \"\"\"Applies all preprocessing steps to df\n",
    "\n",
    "    Args:\n",
    "        df (pd.DataFrame): input df\n",
    "        function_list (Dict[str, Tuple[Callable, dict]]): dictionary where keys are arbitrary names, and values are tuple\n",
    "        of \n",
    "\n",
    "    Returns:\n",
    "        pd.DataFrame: preproocessed df\n",
    "    \"\"\"\n",
    "    for step, (func, kwargs) in pipeline.items():\n",
    "        print(f\"Running pipeline step: {step}\")\n",
    "        if kwargs is None:\n",
    "            kwargs = {}\n",
    "        df = func(df, **kwargs)\n",
    "    \n",
    "    return df\n",
    "\n",
    "def extract_x_y(df: pd.DataFrame, target_col: str) -> Tuple[pd.DataFrame, pd.Series]:\n",
    "    \"\"\"Split into X and y for modelling\n",
    "\n",
    "    Args:\n",
    "        df (pd.DataFrame): train/test set\n",
    "        target_col (str): target column name\n",
    "\n",
    "    Returns:\n",
    "        Tuple[pd.DataFrame, pd.Series]: X and y\n",
    "    \"\"\"\n",
    "    X, y = df.drop(target_col, axis=1), df[target_col]\n",
    "    return X, y"
   ]
  },
  {
   "cell_type": "markdown",
   "metadata": {},
   "source": [
    "### Load data"
   ]
  },
  {
   "cell_type": "code",
   "execution_count": 3,
   "metadata": {},
   "outputs": [],
   "source": [
    "sns.set(rc={'figure.figsize':(10, 5)})\n",
    "\n",
    "TARGET = \"Survived\"\n",
    "\n",
    "def load_raw_data(data_set: str=\"train\") -> pd.DataFrame:\n",
    "\n",
    "    if data_set == \"test\":\n",
    "        df = pd.read_csv(\"Titanic/Data/test.csv\")\n",
    "    else:\n",
    "        df = pd.read_csv(\"Titanic/Data/train.csv\")\n",
    "\n",
    "    return df\n",
    "\n",
    "train = load_raw_data(\"train\")\n",
    "test = load_raw_data(\"test\")\n",
    "\n",
    "# Initialise empty pipeline\n",
    "pipeline = {}\n",
    "\n",
    "DROP_COLS = [\n",
    "    \"Ticket\",\n",
    "    \"Name\"\n",
    "]\n",
    "\n",
    "def drop_cols(df: pd.DataFrame, drop_cols: List[str]) -> pd.DataFrame:\n",
    "    return df.drop(drop_cols, axis=1)\n",
    "\n",
    "train = drop_cols(train, DROP_COLS)\n",
    "test = drop_cols(test, DROP_COLS)"
   ]
  },
  {
   "cell_type": "markdown",
   "metadata": {},
   "source": [
    "### EDA\n",
    "\n",
    "Basic was EDA done locally and scrapped, so won't appear here"
   ]
  },
  {
   "cell_type": "code",
   "execution_count": 4,
   "metadata": {},
   "outputs": [
    {
     "data": {
      "text/html": [
       "<div>\n",
       "<style scoped>\n",
       "    .dataframe tbody tr th:only-of-type {\n",
       "        vertical-align: middle;\n",
       "    }\n",
       "\n",
       "    .dataframe tbody tr th {\n",
       "        vertical-align: top;\n",
       "    }\n",
       "\n",
       "    .dataframe thead th {\n",
       "        text-align: right;\n",
       "    }\n",
       "</style>\n",
       "<table border=\"1\" class=\"dataframe\">\n",
       "  <thead>\n",
       "    <tr style=\"text-align: right;\">\n",
       "      <th></th>\n",
       "      <th>PassengerId</th>\n",
       "      <th>Survived</th>\n",
       "      <th>Pclass</th>\n",
       "      <th>Age</th>\n",
       "      <th>SibSp</th>\n",
       "      <th>Parch</th>\n",
       "      <th>Fare</th>\n",
       "    </tr>\n",
       "  </thead>\n",
       "  <tbody>\n",
       "    <tr>\n",
       "      <th>count</th>\n",
       "      <td>891.000000</td>\n",
       "      <td>891.000000</td>\n",
       "      <td>891.000000</td>\n",
       "      <td>714.000000</td>\n",
       "      <td>891.000000</td>\n",
       "      <td>891.000000</td>\n",
       "      <td>891.000000</td>\n",
       "    </tr>\n",
       "    <tr>\n",
       "      <th>mean</th>\n",
       "      <td>446.000000</td>\n",
       "      <td>0.383838</td>\n",
       "      <td>2.308642</td>\n",
       "      <td>29.699118</td>\n",
       "      <td>0.523008</td>\n",
       "      <td>0.381594</td>\n",
       "      <td>32.204208</td>\n",
       "    </tr>\n",
       "    <tr>\n",
       "      <th>std</th>\n",
       "      <td>257.353842</td>\n",
       "      <td>0.486592</td>\n",
       "      <td>0.836071</td>\n",
       "      <td>14.526497</td>\n",
       "      <td>1.102743</td>\n",
       "      <td>0.806057</td>\n",
       "      <td>49.693429</td>\n",
       "    </tr>\n",
       "    <tr>\n",
       "      <th>min</th>\n",
       "      <td>1.000000</td>\n",
       "      <td>0.000000</td>\n",
       "      <td>1.000000</td>\n",
       "      <td>0.420000</td>\n",
       "      <td>0.000000</td>\n",
       "      <td>0.000000</td>\n",
       "      <td>0.000000</td>\n",
       "    </tr>\n",
       "    <tr>\n",
       "      <th>25%</th>\n",
       "      <td>223.500000</td>\n",
       "      <td>0.000000</td>\n",
       "      <td>2.000000</td>\n",
       "      <td>20.125000</td>\n",
       "      <td>0.000000</td>\n",
       "      <td>0.000000</td>\n",
       "      <td>7.910400</td>\n",
       "    </tr>\n",
       "    <tr>\n",
       "      <th>50%</th>\n",
       "      <td>446.000000</td>\n",
       "      <td>0.000000</td>\n",
       "      <td>3.000000</td>\n",
       "      <td>28.000000</td>\n",
       "      <td>0.000000</td>\n",
       "      <td>0.000000</td>\n",
       "      <td>14.454200</td>\n",
       "    </tr>\n",
       "    <tr>\n",
       "      <th>75%</th>\n",
       "      <td>668.500000</td>\n",
       "      <td>1.000000</td>\n",
       "      <td>3.000000</td>\n",
       "      <td>38.000000</td>\n",
       "      <td>1.000000</td>\n",
       "      <td>0.000000</td>\n",
       "      <td>31.000000</td>\n",
       "    </tr>\n",
       "    <tr>\n",
       "      <th>max</th>\n",
       "      <td>891.000000</td>\n",
       "      <td>1.000000</td>\n",
       "      <td>3.000000</td>\n",
       "      <td>80.000000</td>\n",
       "      <td>8.000000</td>\n",
       "      <td>6.000000</td>\n",
       "      <td>512.329200</td>\n",
       "    </tr>\n",
       "  </tbody>\n",
       "</table>\n",
       "</div>"
      ],
      "text/plain": [
       "       PassengerId    Survived      Pclass         Age       SibSp  \\\n",
       "count   891.000000  891.000000  891.000000  714.000000  891.000000   \n",
       "mean    446.000000    0.383838    2.308642   29.699118    0.523008   \n",
       "std     257.353842    0.486592    0.836071   14.526497    1.102743   \n",
       "min       1.000000    0.000000    1.000000    0.420000    0.000000   \n",
       "25%     223.500000    0.000000    2.000000   20.125000    0.000000   \n",
       "50%     446.000000    0.000000    3.000000   28.000000    0.000000   \n",
       "75%     668.500000    1.000000    3.000000   38.000000    1.000000   \n",
       "max     891.000000    1.000000    3.000000   80.000000    8.000000   \n",
       "\n",
       "            Parch        Fare  \n",
       "count  891.000000  891.000000  \n",
       "mean     0.381594   32.204208  \n",
       "std      0.806057   49.693429  \n",
       "min      0.000000    0.000000  \n",
       "25%      0.000000    7.910400  \n",
       "50%      0.000000   14.454200  \n",
       "75%      0.000000   31.000000  \n",
       "max      6.000000  512.329200  "
      ]
     },
     "execution_count": 4,
     "metadata": {},
     "output_type": "execute_result"
    }
   ],
   "source": [
    "train.describe()"
   ]
  },
  {
   "cell_type": "code",
   "execution_count": 5,
   "metadata": {},
   "outputs": [
    {
     "data": {
      "text/plain": [
       "Text(0.5, 0, '%')"
      ]
     },
     "execution_count": 5,
     "metadata": {},
     "output_type": "execute_result"
    },
    {
     "data": {
      "image/png": "[encoded data removed]",
      "text/plain": [
       "<Figure size 720x360 with 1 Axes>"
      ]
     },
     "metadata": {},
     "output_type": "display_data"
    }
   ],
   "source": [
    "ax = (train[\"Survived\"].value_counts() / len(train) * 100).plot(kind=\"barh\")\n",
    "ax.set_ylabel(\"Survived\")\n",
    "ax.set_xlabel(\"%\")"
   ]
  },
  {
   "cell_type": "markdown",
   "metadata": {},
   "source": [
    "**Cabin**\n",
    "\n",
    "The Cabin field consists of a single letter followed by a number.\n",
    "\n",
    "It is assumed that the first letter indicates the area of the boat the cabin was in, and the number signifies room number within that area. The area of the boat the passenger was in could be informative of probability of survival."
   ]
  },
  {
   "cell_type": "code",
   "execution_count": 6,
   "metadata": {},
   "outputs": [
    {
     "data": {
      "text/plain": [
       "<AxesSubplot:xlabel='cabin_location', ylabel='Survived'>"
      ]
     },
     "execution_count": 6,
     "metadata": {},
     "output_type": "execute_result"
    },
    {
     "data": {
      "image/png": "[encoded data removed]",
      "text/plain": [
       "<Figure size 720x360 with 1 Axes>"
      ]
     },
     "metadata": {},
     "output_type": "display_data"
    }
   ],
   "source": [
    "def extract_cabin_features(df):\n",
    "    # Create cabin location and number cols\n",
    "    df[\"cabin_location\"] = df[\"Cabin\"].str.slice(0, 1)\n",
    "\n",
    "    # Impute\n",
    "    df[\"cabin_location\"].fillna(\"M\", inplace=True)\n",
    "    df.drop(\"Cabin\", axis=1, inplace=True)\n",
    "    \n",
    "    return df\n",
    "\n",
    "_ = train.copy()\n",
    "_ = extract_cabin_features(_)\n",
    "sns.barplot(data=_, x=\"cabin_location\", y=\"Survived\")"
   ]
  },
  {
   "cell_type": "code",
   "execution_count": 7,
   "metadata": {},
   "outputs": [
    {
     "name": "stdout",
     "output_type": "stream",
     "text": [
      "1    687\n",
      "0    204\n",
      "Name: cabin_M, dtype: int64\n"
     ]
    },
    {
     "data": {
      "image/png": "[encoded data removed]",
      "text/plain": [
       "<Figure size 720x360 with 1 Axes>"
      ]
     },
     "metadata": {},
     "output_type": "display_data"
    }
   ],
   "source": [
    "_[\"cabin_M\"] = np.where(_[\"cabin_location\"] == \"M\", 1, 0)\n",
    "_.drop(\"cabin_location\", axis=1, inplace=True)\n",
    "\n",
    "print(_[\"cabin_M\"].value_counts())\n",
    "plot_pct_by_group(_, \"Survived\", \"cabin_M\", kind=\"bar\")"
   ]
  },
  {
   "cell_type": "markdown",
   "metadata": {},
   "source": [
    "**Just keep feature, cabin_M - other cabin categories are less frequent and have less impact on survival**"
   ]
  },
  {
   "cell_type": "markdown",
   "metadata": {},
   "source": [
    "### Missing data"
   ]
  },
  {
   "cell_type": "markdown",
   "metadata": {},
   "source": [
    "**For now impute Age and Embarked with median and mode**"
   ]
  },
  {
   "cell_type": "code",
   "execution_count": 8,
   "metadata": {},
   "outputs": [],
   "source": [
    "def impute(df: pd.DataFrame) -> pd.DataFrame:\n",
    "    # Age - if any remaining after this (don't have a group), impute with median\n",
    "    df[\"Age\"] = df.groupby([\"Pclass\", \"Sex\", \"Parch\"])[\"Age\"].apply(lambda x: x.fillna(x.median()))\n",
    "    \n",
    "    # Embarked\n",
    "    df[\"Embarked\"] = SimpleImputer(strategy=\"most_frequent\").fit_transform(df[[\"Embarked\"]])\n",
    "\n",
    "    # Impute remaining with median\n",
    "    median_impute_cols = [\"Fare\", \"Age\"]\n",
    "    for median_impute_col in median_impute_cols:\n",
    "        df[median_impute_col] = SimpleImputer(strategy=\"most_frequent\").fit_transform(df[[median_impute_col]])\n",
    "\n",
    "    return df\n",
    "\n",
    "pipeline[\"impute\"] = (impute, None)"
   ]
  },
  {
   "cell_type": "markdown",
   "metadata": {},
   "source": [
    "### Feature engineering"
   ]
  },
  {
   "cell_type": "code",
   "execution_count": 9,
   "metadata": {},
   "outputs": [],
   "source": [
    "def extract_cabin_features(df: pd.DataFrame) -> pd.DataFrame:\n",
    "    \"\"\"Add feature to signal missing cabin data\"\"\"\n",
    "\n",
    "    df[\"cabin_location\"] = df[\"Cabin\"].str.slice(0, 1)\n",
    "    df[\"cabin_location\"].fillna(\"M\", inplace=True)\n",
    "    df[\"cabin_M\"] = np.where(df[\"cabin_location\"] == \"M\", 1, 0)\n",
    "    df.drop([\"Cabin\", \"cabin_location\"], axis=1, inplace=True)\n",
    "    return df\n",
    "\n",
    "pipeline[\"extract cabin features\"] = (extract_cabin_features, None)"
   ]
  },
  {
   "cell_type": "markdown",
   "metadata": {},
   "source": [
    "### Preprocessing"
   ]
  },
  {
   "cell_type": "code",
   "execution_count": 10,
   "metadata": {},
   "outputs": [],
   "source": [
    "def cols_to_char(df: pd.DataFrame, cols: List[str]) -> pd.DataFrame:\n",
    "    for col in cols:\n",
    "        df[col] = df[col].astype(str)\n",
    "    return df\n",
    "\n",
    "def ohe(df: pd.DataFrame) -> pd.DataFrame:\n",
    "    return pd.get_dummies(df, drop_first=True)\n",
    "\n",
    "def add_family_size(df: pd.DataFrame) -> pd.DataFrame:\n",
    "    df[\"family_size\"] = df['SibSp'] + df['Parch'] + 1\n",
    "    df.drop([\"SibSp\", \"Parch\"], axis=1, inplace=True)\n",
    "    return df\n",
    "    \n",
    "pipeline[\"cols_to_char\"] = (cols_to_char, {\"cols\": [\"Pclass\"]})\n",
    "pipeline[\"ohe\"] = (ohe, None)\n",
    "pipeline[\"family size\"] = (add_family_size, None)"
   ]
  },
  {
   "cell_type": "code",
   "execution_count": 11,
   "metadata": {},
   "outputs": [],
   "source": [
    "%%capture\n",
    "train = preprocessing_pipeline(train, pipeline)\n",
    "test = preprocessing_pipeline(test, pipeline)"
   ]
  },
  {
   "cell_type": "code",
   "execution_count": 12,
   "metadata": {},
   "outputs": [],
   "source": [
    "X, y = extract_x_y(train, \"Survived\")\n",
    "X.drop(\"PassengerId\", axis=1, inplace=True)"
   ]
  },
  {
   "cell_type": "markdown",
   "metadata": {},
   "source": [
    "### Baseline model"
   ]
  },
  {
   "cell_type": "code",
   "execution_count": 13,
   "metadata": {},
   "outputs": [],
   "source": [
    "%%capture\n",
    "baseline_performance = AutoMLBaseline(X, y, scoring=\"accuracy\", n_cv=10).run_experiment()"
   ]
  },
  {
   "cell_type": "code",
   "execution_count": 16,
   "metadata": {},
   "outputs": [
    {
     "data": {
      "text/html": [
       "<div>\n",
       "<style scoped>\n",
       "    .dataframe tbody tr th:only-of-type {\n",
       "        vertical-align: middle;\n",
       "    }\n",
       "\n",
       "    .dataframe tbody tr th {\n",
       "        vertical-align: top;\n",
       "    }\n",
       "\n",
       "    .dataframe thead th {\n",
       "        text-align: right;\n",
       "    }\n",
       "</style>\n",
       "<table border=\"1\" class=\"dataframe\">\n",
       "  <thead>\n",
       "    <tr style=\"text-align: right;\">\n",
       "      <th></th>\n",
       "      <th>score</th>\n",
       "    </tr>\n",
       "  </thead>\n",
       "  <tbody>\n",
       "    <tr>\n",
       "      <th>XGBClassifier</th>\n",
       "      <td>0.815943</td>\n",
       "    </tr>\n",
       "    <tr>\n",
       "      <th>RandomForestClassifier</th>\n",
       "      <td>0.813758</td>\n",
       "    </tr>\n",
       "    <tr>\n",
       "      <th>LogisticRegression</th>\n",
       "      <td>0.808065</td>\n",
       "    </tr>\n",
       "    <tr>\n",
       "      <th>GaussianNB</th>\n",
       "      <td>0.786767</td>\n",
       "    </tr>\n",
       "    <tr>\n",
       "      <th>MLPClassifier</th>\n",
       "      <td>0.730749</td>\n",
       "    </tr>\n",
       "    <tr>\n",
       "      <th>SVC</th>\n",
       "      <td>0.685843</td>\n",
       "    </tr>\n",
       "    <tr>\n",
       "      <th>DummyClassifier</th>\n",
       "      <td>0.616167</td>\n",
       "    </tr>\n",
       "  </tbody>\n",
       "</table>\n",
       "</div>"
      ],
      "text/plain": [
       "                           score\n",
       "XGBClassifier           0.815943\n",
       "RandomForestClassifier  0.813758\n",
       "LogisticRegression      0.808065\n",
       "GaussianNB              0.786767\n",
       "MLPClassifier           0.730749\n",
       "SVC                     0.685843\n",
       "DummyClassifier         0.616167"
      ]
     },
     "execution_count": 16,
     "metadata": {},
     "output_type": "execute_result"
    }
   ],
   "source": [
    "baseline_performance"
   ]
  },
  {
   "cell_type": "markdown",
   "metadata": {},
   "source": [
    "### XGBoost"
   ]
  },
  {
   "cell_type": "code",
   "execution_count": 15,
   "metadata": {},
   "outputs": [
    {
     "name": "stdout",
     "output_type": "stream",
     "text": [
      "[17:42:31] WARNING: C:/Users/Administrator/workspace/xgboost-win64_release_1.5.1/src/learner.cc:1115: Starting in XGBoost 1.3.0, the default evaluation metric used with the objective 'binary:logistic' was changed from 'error' to 'logloss'. Explicitly set eval_metric if you'd like to restore the old behavior.\n"
     ]
    },
    {
     "name": "stderr",
     "output_type": "stream",
     "text": [
      "C:\\Users\\joshu\\.virtualenvs\\kaggle-competitions-jWZu0GdS\\lib\\site-packages\\xgboost\\sklearn.py:1224: UserWarning: The use of label encoder in XGBClassifier is deprecated and will be removed in a future release. To remove this warning, do the following: 1) Pass option use_label_encoder=False when constructing XGBClassifier object; and 2) Encode your labels (y) as integers starting with 0, i.e. 0, 1, 2, ..., [num_class - 1].\n",
      "  warnings.warn(label_encoder_deprecation_msg, UserWarning)\n",
      "C:\\Users\\joshu\\.virtualenvs\\kaggle-competitions-jWZu0GdS\\lib\\site-packages\\xgboost\\data.py:262: FutureWarning: pandas.Int64Index is deprecated and will be removed from pandas in a future version. Use pandas.Index with the appropriate dtype instead.\n",
      "  elif isinstance(data.columns, (pd.Int64Index, pd.RangeIndex)):\n"
     ]
    },
    {
     "data": {
      "text/plain": [
       "GridSearchCV(cv=10,\n",
       "             estimator=XGBClassifier(base_score=None, booster=None,\n",
       "                                     colsample_bylevel=None,\n",
       "                                     colsample_bynode=None,\n",
       "                                     colsample_bytree=None,\n",
       "                                     enable_categorical=False, gamma=None,\n",
       "                                     gpu_id=None, importance_type=None,\n",
       "                                     interaction_constraints=None,\n",
       "                                     learning_rate=None, max_delta_step=None,\n",
       "                                     max_depth=None, min_child_weight=None,\n",
       "                                     missing=nan, monotone_constraints=None,\n",
       "                                     n_estimators=100, n_jobs=None,\n",
       "                                     num_parallel_tree=None, predictor=None,\n",
       "                                     random_state=None, reg_alpha=None,\n",
       "                                     reg_lambda=None, scale_pos_weight=None,\n",
       "                                     subsample=None, tree_method=None,\n",
       "                                     validate_parameters=None, verbosity=None),\n",
       "             n_jobs=-1,\n",
       "             param_grid={'colsample_bytree': [0.7, 0.8, 0.9, 1],\n",
       "                         'learning_rate': [0.2, 0.3, 0.4],\n",
       "                         'max_depth': range(3, 8),\n",
       "                         'n_estimators': range(8, 20)},\n",
       "             return_train_score=True)"
      ]
     },
     "execution_count": 15,
     "metadata": {},
     "output_type": "execute_result"
    }
   ],
   "source": [
    "param_grid = {\n",
    "    'n_estimators': range(8, 20),\n",
    "    'max_depth': range(3, 8),\n",
    "    'learning_rate': [.2, .3, .4],\n",
    "    'colsample_bytree': [.7, .8, .9, 1]\n",
    "}\n",
    "\n",
    "xgb = XGBClassifier()\n",
    "\n",
    "grid_search = GridSearchCV(\n",
    "    estimator=xgb, \n",
    "    param_grid=param_grid,\n",
    "    cv=10, \n",
    "    n_jobs=-1, \n",
    ")\n",
    "grid_search.fit(X, y)"
   ]
  },
  {
   "cell_type": "code",
   "execution_count": 30,
   "metadata": {},
   "outputs": [
    {
     "data": {
      "text/plain": [
       "{'colsample_bytree': 0.7,\n",
       " 'learning_rate': 0.4,\n",
       " 'max_depth': 7,\n",
       " 'n_estimators': 12}"
      ]
     },
     "execution_count": 30,
     "metadata": {},
     "output_type": "execute_result"
    }
   ],
   "source": [
    "grid_search.best_params_"
   ]
  },
  {
   "cell_type": "code",
   "execution_count": 31,
   "metadata": {},
   "outputs": [],
   "source": [
    "%%capture\n",
    "\n",
    "from sklearn.metrics import accuracy_score\n",
    "from sklearn.model_selection import cross_validate, KFold\n",
    "\n",
    "N_CV = 10\n",
    "kfold = KFold(n_splits=N_CV, shuffle=True)\n",
    "\n",
    "\n",
    "# xgb = XGBClassifier(**grid_search.best_params_)\n",
    "xgb = XGBClassifier(**{\n",
    "    'colsample_bytree': 0.7,\n",
    "    'learning_rate': 0.4,\n",
    "    'max_depth': 6,\n",
    "    'n_estimators': 12\n",
    "})\n",
    "train_accuracy, test_accuracy = [], []\n",
    "\n",
    "for train_idx, test_idx in kfold.split(X, y):\n",
    "    X_train, y_train = X.iloc[train_idx], y[train_idx]\n",
    "    X_test, y_test = X.iloc[test_idx], y[test_idx]\n",
    "\n",
    "    xgb.fit(X_train, y_train)\n",
    "    y_hat_train = xgb.predict(X_train)\n",
    "    y_hat_test = xgb.predict(X_test)\n",
    "\n",
    "    train_accuracy.append(accuracy_score(y_train, y_hat_train))\n",
    "    test_accuracy.append(accuracy_score(y_test, y_hat_test))"
   ]
  },
  {
   "cell_type": "code",
   "execution_count": 32,
   "metadata": {},
   "outputs": [
    {
     "name": "stdout",
     "output_type": "stream",
     "text": [
      "Mean train score 0.9102136979648258\n",
      "Mean test score 0.8316853932584269\n"
     ]
    },
    {
     "data": {
      "text/plain": [
       "<AxesSubplot:xlabel='fold', ylabel='accuracy'>"
      ]
     },
     "execution_count": 32,
     "metadata": {},
     "output_type": "execute_result"
    },
    {
     "data": {
      "image/png": "[encoded data removed]",
      "text/plain": [
       "<Figure size 720x360 with 1 Axes>"
      ]
     },
     "metadata": {},
     "output_type": "display_data"
    }
   ],
   "source": [
    "results_df = pd.DataFrame({\n",
    "    \"fold\": list(range(N_CV)),\n",
    "    \"train\": train_accuracy,\n",
    "    \"test\": test_accuracy\n",
    "})\n",
    "results_df = pd.melt(results_df, id_vars=\"fold\", var_name=\"set\",value_name=\"accuracy\")\n",
    "print(f\"Mean train score {np.mean(train_accuracy)}\")\n",
    "print(f\"Mean test score {np.mean(test_accuracy)}\")\n",
    "sns.barplot(data=results_df, x=\"fold\", y=\"accuracy\", hue=\"set\")"
   ]
  },
  {
   "cell_type": "code",
   "execution_count": 34,
   "metadata": {},
   "outputs": [
    {
     "data": {
      "image/png": "[encoded data removed]",
      "text/plain": [
       "<Figure size 720x360 with 1 Axes>"
      ]
     },
     "metadata": {},
     "output_type": "display_data"
    }
   ],
   "source": [
    "plot_importances(xgb, X.columns, 20)"
   ]
  },
  {
   "cell_type": "markdown",
   "metadata": {},
   "source": [
    "### Score test set and submit"
   ]
  },
  {
   "cell_type": "code",
   "execution_count": 20,
   "metadata": {},
   "outputs": [
    {
     "data": {
      "text/plain": [
       "<bound method XGBModel.get_params of XGBClassifier(base_score=0.5, booster='gbtree', colsample_bylevel=1,\n",
       "              colsample_bynode=1, colsample_bytree=0.7,\n",
       "              enable_categorical=False, gamma=0, gpu_id=-1,\n",
       "              importance_type=None, interaction_constraints='',\n",
       "              learning_rate=0.4, max_delta_step=0, max_depth=7,\n",
       "              min_child_weight=1, missing=nan, monotone_constraints='()',\n",
       "              n_estimators=12, n_jobs=16, num_parallel_tree=1, predictor='auto',\n",
       "              random_state=0, reg_alpha=0, reg_lambda=1, scale_pos_weight=1,\n",
       "              subsample=1, tree_method='exact', validate_parameters=1,\n",
       "              verbosity=None)>"
      ]
     },
     "execution_count": 20,
     "metadata": {},
     "output_type": "execute_result"
    }
   ],
   "source": [
    "xgb.get_params"
   ]
  },
  {
   "cell_type": "code",
   "execution_count": 22,
   "metadata": {},
   "outputs": [
    {
     "name": "stdout",
     "output_type": "stream",
     "text": [
      "[17:44:34] WARNING: C:/Users/Administrator/workspace/xgboost-win64_release_1.5.1/src/learner.cc:1115: Starting in XGBoost 1.3.0, the default evaluation metric used with the objective 'binary:logistic' was changed from 'error' to 'logloss'. Explicitly set eval_metric if you'd like to restore the old behavior.\n"
     ]
    },
    {
     "name": "stderr",
     "output_type": "stream",
     "text": [
      "C:\\Users\\joshu\\.virtualenvs\\kaggle-competitions-jWZu0GdS\\lib\\site-packages\\xgboost\\sklearn.py:1224: UserWarning: The use of label encoder in XGBClassifier is deprecated and will be removed in a future release. To remove this warning, do the following: 1) Pass option use_label_encoder=False when constructing XGBClassifier object; and 2) Encode your labels (y) as integers starting with 0, i.e. 0, 1, 2, ..., [num_class - 1].\n",
      "  warnings.warn(label_encoder_deprecation_msg, UserWarning)\n",
      "C:\\Users\\joshu\\.virtualenvs\\kaggle-competitions-jWZu0GdS\\lib\\site-packages\\xgboost\\data.py:262: FutureWarning: pandas.Int64Index is deprecated and will be removed from pandas in a future version. Use pandas.Index with the appropriate dtype instead.\n",
      "  elif isinstance(data.columns, (pd.Int64Index, pd.RangeIndex)):\n"
     ]
    },
    {
     "data": {
      "text/plain": [
       "XGBClassifier(base_score=0.5, booster='gbtree', colsample_bylevel=1,\n",
       "              colsample_bynode=1, colsample_bytree=0.7,\n",
       "              enable_categorical=False, gamma=0, gpu_id=-1,\n",
       "              importance_type=None, interaction_constraints='',\n",
       "              learning_rate=0.4, max_delta_step=0, max_depth=7,\n",
       "              min_child_weight=1, missing=nan, monotone_constraints='()',\n",
       "              n_estimators=12, n_jobs=16, num_parallel_tree=1, predictor='auto',\n",
       "              random_state=0, reg_alpha=0, reg_lambda=1, scale_pos_weight=1,\n",
       "              subsample=1, tree_method='exact', validate_parameters=1,\n",
       "              verbosity=None)"
      ]
     },
     "execution_count": 22,
     "metadata": {},
     "output_type": "execute_result"
    }
   ],
   "source": [
    "xgb.fit(X, y)"
   ]
  },
  {
   "cell_type": "code",
   "execution_count": 23,
   "metadata": {},
   "outputs": [
    {
     "name": "stdout",
     "output_type": "stream",
     "text": [
      "Adding missing features to test set: []\n"
     ]
    }
   ],
   "source": [
    "missing_features = list(\n",
    "    set(X) -\n",
    "    set(test.drop(\"PassengerId\", axis=1).columns)\n",
    ")\n",
    "print(f\"Adding missing features to test set: {missing_features}\")\n",
    "for missing_feature in missing_features:\n",
    "    test[missing_feature] = 0"
   ]
  },
  {
   "cell_type": "code",
   "execution_count": 25,
   "metadata": {},
   "outputs": [],
   "source": [
    "%%capture\n",
    "y_hats = test[[\"PassengerId\"]]\n",
    "y_hats[\"Survived\"] = xgb.predict(test.drop(\"PassengerId\", axis=1))\n",
    "y_hats.to_csv(\"Titanic/Data/test_predictions.csv\", index=False)"
   ]
  }
 ],
 "metadata": {
  "interpreter": {
   "hash": "a1abd7f44d5fb45ed617dc58b72737399e45f2c87d6b47cf47bcc9a2c8af1f45"
  },
  "kernelspec": {
   "display_name": "Python 3.10.2 64-bit",
   "language": "python",
   "name": "python3"
  },
  "language_info": {
   "codemirror_mode": {
    "name": "ipython",
    "version": 3
   },
   "file_extension": ".py",
   "mimetype": "text/x-python",
   "name": "python",
   "nbconvert_exporter": "python",
   "pygments_lexer": "ipython3",
   "version": "3.10.2"
  },
  "orig_nbformat": 4
 },
 "nbformat": 4,
 "nbformat_minor": 2
}
