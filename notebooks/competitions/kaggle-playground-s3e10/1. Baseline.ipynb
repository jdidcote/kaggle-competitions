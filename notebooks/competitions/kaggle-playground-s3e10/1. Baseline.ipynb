{
 "cells": [
  {
   "cell_type": "code",
   "execution_count": 1,
   "outputs": [
    {
     "name": "stdout",
     "output_type": "stream",
     "text": [
      "Local data already exists. Skipping download.\n"
     ]
    }
   ],
   "source": [
    "import pandas as pd\n",
    "\n",
    "from ml_utils.kaggle_utils import download_and_unzip\n",
    "\n",
    "competition = \"playground-series-s3e10\"\n",
    "download_and_unzip(competition)"
   ],
   "metadata": {
    "collapsed": false
   }
  },
  {
   "cell_type": "markdown",
   "source": [
    "### Load data"
   ],
   "metadata": {
    "collapsed": false
   }
  },
  {
   "cell_type": "code",
   "execution_count": 5,
   "outputs": [],
   "source": [
    "train = pd.read_csv(\"data/train.csv\")\n",
    "test = pd.read_csv(\"data/test.csv\")"
   ],
   "metadata": {
    "collapsed": false
   }
  },
  {
   "cell_type": "code",
   "execution_count": 6,
   "outputs": [
    {
     "data": {
      "text/plain": "   id  Mean_Integrated         SD        EK  Skewness  Mean_DMSNR_Curve  \\\n0   0       133.171875  59.716081  0.043133 -0.703383         54.917224   \n1   1        87.093750  36.257973  0.435469  2.266057          3.417224   \n2   2       112.640625  39.818393  0.379639  0.922306          2.730769   \n3   3       120.679688  45.918448 -0.098490  0.011775          2.696488   \n4   4       134.070312  57.720107 -0.107772 -0.573335          1.107860   \n\n   SD_DMSNR_Curve  EK_DMSNR_Curve  Skewness_DMSNR_Curve  Class  \n0       70.084438        0.749798             -0.649512      0  \n1       21.865069        7.039330             52.686251      0  \n2       15.689690        8.193471             85.649785      0  \n3       20.954662        8.183874             70.332899      0  \n4       11.255051       16.107748            308.753765      0  ",
      "text/html": "<div>\n<style scoped>\n    .dataframe tbody tr th:only-of-type {\n        vertical-align: middle;\n    }\n\n    .dataframe tbody tr th {\n        vertical-align: top;\n    }\n\n    .dataframe thead th {\n        text-align: right;\n    }\n</style>\n<table border=\"1\" class=\"dataframe\">\n  <thead>\n    <tr style=\"text-align: right;\">\n      <th></th>\n      <th>id</th>\n      <th>Mean_Integrated</th>\n      <th>SD</th>\n      <th>EK</th>\n      <th>Skewness</th>\n      <th>Mean_DMSNR_Curve</th>\n      <th>SD_DMSNR_Curve</th>\n      <th>EK_DMSNR_Curve</th>\n      <th>Skewness_DMSNR_Curve</th>\n      <th>Class</th>\n    </tr>\n  </thead>\n  <tbody>\n    <tr>\n      <th>0</th>\n      <td>0</td>\n      <td>133.171875</td>\n      <td>59.716081</td>\n      <td>0.043133</td>\n      <td>-0.703383</td>\n      <td>54.917224</td>\n      <td>70.084438</td>\n      <td>0.749798</td>\n      <td>-0.649512</td>\n      <td>0</td>\n    </tr>\n    <tr>\n      <th>1</th>\n      <td>1</td>\n      <td>87.093750</td>\n      <td>36.257973</td>\n      <td>0.435469</td>\n      <td>2.266057</td>\n      <td>3.417224</td>\n      <td>21.865069</td>\n      <td>7.039330</td>\n      <td>52.686251</td>\n      <td>0</td>\n    </tr>\n    <tr>\n      <th>2</th>\n      <td>2</td>\n      <td>112.640625</td>\n      <td>39.818393</td>\n      <td>0.379639</td>\n      <td>0.922306</td>\n      <td>2.730769</td>\n      <td>15.689690</td>\n      <td>8.193471</td>\n      <td>85.649785</td>\n      <td>0</td>\n    </tr>\n    <tr>\n      <th>3</th>\n      <td>3</td>\n      <td>120.679688</td>\n      <td>45.918448</td>\n      <td>-0.098490</td>\n      <td>0.011775</td>\n      <td>2.696488</td>\n      <td>20.954662</td>\n      <td>8.183874</td>\n      <td>70.332899</td>\n      <td>0</td>\n    </tr>\n    <tr>\n      <th>4</th>\n      <td>4</td>\n      <td>134.070312</td>\n      <td>57.720107</td>\n      <td>-0.107772</td>\n      <td>-0.573335</td>\n      <td>1.107860</td>\n      <td>11.255051</td>\n      <td>16.107748</td>\n      <td>308.753765</td>\n      <td>0</td>\n    </tr>\n  </tbody>\n</table>\n</div>"
     },
     "execution_count": 6,
     "metadata": {},
     "output_type": "execute_result"
    }
   ],
   "source": [
    "train.head()"
   ],
   "metadata": {
    "collapsed": false
   }
  }
 ],
 "metadata": {
  "kernelspec": {
   "display_name": "Python 3",
   "language": "python",
   "name": "python3"
  },
  "language_info": {
   "codemirror_mode": {
    "name": "ipython",
    "version": 2
   },
   "file_extension": ".py",
   "mimetype": "text/x-python",
   "name": "python",
   "nbconvert_exporter": "python",
   "pygments_lexer": "ipython2",
   "version": "2.7.6"
  }
 },
 "nbformat": 4,
 "nbformat_minor": 0
}
